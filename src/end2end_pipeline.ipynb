{
 "cells": [
  {
   "cell_type": "code",
   "execution_count": 1,
   "id": "fb06f92e",
   "metadata": {},
   "outputs": [],
   "source": [
    "image_name = \"NL-HaNA_2.10.50_45_0355\""
   ]
  },
  {
   "cell_type": "code",
   "execution_count": 2,
   "id": "bbd897e5",
   "metadata": {},
   "outputs": [
    {
     "name": "stdout",
     "output_type": "stream",
     "text": [
      "Current directory: /Users/sarah_shoilee/codeProjects/stamboekn_KE\n"
     ]
    }
   ],
   "source": [
    "import os\n",
    "# Go outside the src directory\n",
    "os.chdir(\"../\")\n",
    "current_dir = os.getcwd()\n",
    "print(\"Current directory:\", current_dir)"
   ]
  },
  {
   "cell_type": "code",
   "execution_count": 3,
   "id": "0080f463",
   "metadata": {},
   "outputs": [],
   "source": [
    "def read_html(html_path):\n",
    "    if not os.path.exists(html_path):\n",
    "        raise FileNotFoundError(f\"HTML file not found: {html_path}\")\n",
    "    with open(html_path, 'r', encoding='utf-8') as file:\n",
    "        table = file.read()\n",
    "        return table\n",
    "    # print(f\"Successfully read HTML file: {html_path}\")"
   ]
  },
  {
   "cell_type": "code",
   "execution_count": 4,
   "id": "1c08a0a2",
   "metadata": {},
   "outputs": [],
   "source": [
    "from bs4 import BeautifulSoup\n",
    "\n",
    "html = read_html(f\"data/labels/{image_name}.html\")\n",
    "\n",
    "soup = BeautifulSoup(html, \"html.parser\")\n",
    "table = soup.find(\"table\")"
   ]
  },
  {
   "cell_type": "code",
   "execution_count": 5,
   "id": "e45295a3",
   "metadata": {},
   "outputs": [
    {
     "name": "stdout",
     "output_type": "stream",
     "text": [
      "{\n",
      "  \"persons\": [\n",
      "    {\n",
      "      \"vader\": {\n",
      "        \"value\": \"Jacobus\",\n",
      "        \"cell\": \"c_86\"\n",
      "      },\n",
      "      \"moeder\": {\n",
      "        \"value\": \"Catharina Ballert\",\n",
      "        \"cell\": \"c_86\"\n",
      "      },\n",
      "      \"geboorte_datum\": {\n",
      "        \"value\": \"9 October 1775\",\n",
      "        \"cell\": \"c_86\"\n",
      "      },\n",
      "      \"geboorte_plaats\": {\n",
      "        \"value\": \"Schoonhoven\",\n",
      "        \"cell\": \"c_86\"\n",
      "      },\n",
      "      \"laatste_woonplaats\": {\n",
      "        \"value\": \"Bruille\",\n",
      "        \"cell\": \"c_86\"\n",
      "      }\n",
      "    },\n",
      "    {\n",
      "      \"vader\": {\n",
      "        \"value\": \"Coert Hendrik\",\n",
      "        \"cell\": \"c_818\"\n",
      "      },\n",
      "      \"moeder\": {\n",
      "        \"value\": \"Maria Van Onbeek\",\n",
      "        \"cell\": \"c_818\"\n",
      "      },\n",
      "      \"geboorte_datum\": {\n",
      "        \"value\": \"23 december 1771\",\n",
      "        \"cell\": \"c_818\"\n",
      "      },\n",
      "      \"geboorte_plaats\": {\n",
      "        \"value\": \"S'Hage\",\n",
      "        \"cell\": \"c_818\"\n",
      "      },\n",
      "      \"laatste_woonplaats\": {\n",
      "        \"value\": \"S'Hage\",\n",
      "        \"cell\": \"c_818\"\n",
      "      }\n",
      "    }\n",
      "  ]\n",
      "}\n"
     ]
    }
   ],
   "source": [
    "import re\n",
    "import json\n",
    "\n",
    "persons = []\n",
    "\n",
    "for row in table.find_all(\"tr\"):\n",
    "    cells = row.find_all(\"td\")\n",
    "\n",
    "    if not cells:\n",
    "        continue  # skip header or empty rows\n",
    "\n",
    "    person = {}\n",
    "    for cell in cells:\n",
    "        # preserve breaks as \\n\n",
    "        text = cell.get_text(separator=\"\\n\", strip=True)\n",
    "        \n",
    "        vader_match = re.search(r'Vader\\s+([^\\n]+)', text, re.IGNORECASE)\n",
    "        moeder_match = re.search(r'Moeder\\s+([^\\n]+)', text, re.IGNORECASE)\n",
    "        geboorte_datum_match = re.search(r'Geboren\\s*Den\\s*([^\\n]+)', text, re.IGNORECASE)\n",
    "        geboorte_plaats_match = re.search(r'Geboortplaats\\s*([^\\n]+)', text, re.IGNORECASE)\n",
    "        laatste_woonplaats_match = re.search(r'Laatste\\s*Woonplaats\\s*([^\\n]+)', text, re.IGNORECASE)\n",
    "        \n",
    "        if vader_match:\n",
    "            person['vader'] = {'value': vader_match.group(1).strip(), 'cell': cell.get('id')}\n",
    "        if moeder_match:\n",
    "            person['moeder'] = {'value': moeder_match.group(1).strip(), 'cell': cell.get('id')}\n",
    "        if geboorte_datum_match:\n",
    "            person['geboorte_datum'] = {'value': geboorte_datum_match.group(1).strip(), 'cell': cell.get('id')}\n",
    "        if geboorte_plaats_match:\n",
    "            person['geboorte_plaats'] = {'value': geboorte_plaats_match.group(1).strip(), 'cell': cell.get('id')}\n",
    "        if laatste_woonplaats_match:\n",
    "            person['laatste_woonplaats'] = {'value': laatste_woonplaats_match.group(1).strip(), 'cell': cell.get('id')}\n",
    "\n",
    "    if person:\n",
    "        persons.append(person)\n",
    "\n",
    "json_obj = {\"persons\": persons}\n",
    "print(json.dumps(json_obj, indent=2, ensure_ascii=False))"
   ]
  },
  {
   "cell_type": "code",
   "execution_count": 6,
   "id": "19d12d0e",
   "metadata": {},
   "outputs": [],
   "source": [
    "with open(f\"data/json/{image_name}.json\", \"w\", encoding='utf-8') as json_file:\n",
    "    json.dump(json_obj, json_file, ensure_ascii=False, indent=2)#!/usr/bin/env python3\n"
   ]
  },
  {
   "cell_type": "code",
   "execution_count": 7,
   "id": "535a3c02",
   "metadata": {},
   "outputs": [
    {
     "name": "stderr",
     "output_type": "stream",
     "text": [
      "/var/folders/jg/8kz6nb554_3dz1_0swrmdw480000gn/T/ipykernel_35998/734184155.py:10: DeprecationWarning: ConjunctiveGraph is deprecated, use Dataset instead.\n",
      "  cg = ConjunctiveGraph()\n"
     ]
    },
    {
     "data": {
      "text/plain": [
       "<Graph identifier=Naf9a9400513e43cf98992b43c08d53eb (<class 'rdflib.graph.ConjunctiveGraph'>)>"
      ]
     },
     "execution_count": 7,
     "metadata": {},
     "output_type": "execute_result"
    }
   ],
   "source": [
    "from rdflib import Graph, ConjunctiveGraph, Namespace, URIRef, Literal, RDF\n",
    "\n",
    "FOAF = Namespace(\"http://xmlns.com/foaf/0.1/\")\n",
    "EX = Namespace(\"http://example.org/ontology/\")\n",
    "\n",
    "g = Graph()\n",
    "g.bind(\"foaf\", FOAF)\n",
    "g.bind(\"ex\", EX)\n",
    "\n",
    "cg = ConjunctiveGraph()\n",
    "cg.bind(\"foaf\", FOAF)\n",
    "cg.bind(\"ex\", EX)\n",
    "\n",
    "# Mapping from json keys to RDF predicates\n",
    "predicate_map = {\n",
    "    \"vader\": EX.vader,\n",
    "    \"moeder\": EX.moeder,\n",
    "    \"geboorte_datum\": EX.geboorteDatum,\n",
    "    \"geboorte_plaats\": EX.geboortePlaats,\n",
    "    \"laatste_woonplaats\": EX.laatsteWoonplaats\n",
    "}\n",
    "\n",
    "for idx, person in enumerate(json_obj[\"persons\"], start=1):\n",
    "    person_uri = URIRef(f\"http://example.org/person/{idx}\")\n",
    "    assertion_graph_uri = URIRef(\"http://example.org/assertion\")\n",
    "    assertion_graph = Graph(store=cg.store, identifier=assertion_graph_uri)\n",
    "    assertion_graph.add((person_uri, RDF.type, FOAF.Person))\n",
    "\n",
    "    provenance_graph_uri = URIRef(\"http://example.org/provenance\")\n",
    "    provenance_graph = Graph(store=cg.store, identifier=provenance_graph_uri)\n",
    "\n",
    "    for key, value_dict in person.items():\n",
    "        value = value_dict[\"value\"]\n",
    "        cell_id = value_dict[\"cell\"]\n",
    "        predicate = predicate_map.get(key)\n",
    "        if predicate:\n",
    "            # Named graph for each cell\n",
    "            graph_uri = URIRef(f\"http://example.org/graph/{cell_id}\")\n",
    "            ng = Graph(store=cg.store, identifier=graph_uri)\n",
    "            ng.add((person_uri, predicate, Literal(value)))\n",
    "            id_uri = URIRef(f\"http://example.org/id/{cell_id}\")\n",
    "            provenance_graph.add((graph_uri, EX.prov, id_uri))\n",
    "\n",
    "cg.serialize(f\"data/triples/{image_name}_assersion.trig\", format='trig')\n"
   ]
  },
  {
   "cell_type": "code",
   "execution_count": 8,
   "id": "ee504691",
   "metadata": {},
   "outputs": [],
   "source": [
    "from lxml import etree\n",
    "\n",
    "def add_provenance_graph(pagexml_path):\n",
    "    tree = etree.parse(pagexml_path)\n",
    "    root = tree.getroot()\n",
    "\n",
    "    EX = Namespace(\"http://example.org/ontology/\")\n",
    "    TAB = Namespace(\"http://example.org/table_ontology/\")\n",
    "    IMG = Namespace(\"http://example.org/image_ontology/\")\n",
    "\n",
    "    # Create RDF graph\n",
    "    g = Graph()\n",
    "    g.bind(\"ex\", EX)\n",
    "    g.bind(\"tab\", TAB)\n",
    "    g.bind(\"img\", IMG)\n",
    "\n",
    "\n",
    "    # Find TableRegion(s)\n",
    "    table_regions = root.findall(\".//{*}TableRegion\")\n",
    "\n",
    "    for table_region in table_regions:\n",
    "        for cell in table_region.findall(\".//{*}TableCell\"):\n",
    "            cell_id = cell.get('id')\n",
    "            rows = cell.get('row')\n",
    "            cols = cell.get('col')\n",
    "            Coords = cell.find(\".//{*}Coords\")\n",
    "            coords_points = Coords.get('points') if Coords is not None else None\n",
    "            \n",
    "            # create cell uri\n",
    "            cell_uri = URIRef(f\"http://example.org/id/{cell_id}\")\n",
    "\n",
    "            # Create a Table instance URI\n",
    "            table_uri = URIRef(f\"http://example.org/Table/{cell_id}\")\n",
    "            g.add((cell_uri, EX.table_prov, table_uri))\n",
    "            g.add((table_uri, RDF.type, TAB.table_provanence))\n",
    "\n",
    "            # Add row and col attributes to the Table instance\n",
    "            g.add((table_uri, TAB.row, Literal(rows)))\n",
    "            g.add((table_uri, TAB.col, Literal(cols)))\n",
    "\n",
    "            # Create image URI\n",
    "            image_uri = URIRef(f\"http://example.org/image/{cell_id}\")\n",
    "\n",
    "            # Add image instance and coord attribute\n",
    "            g.add((cell_uri, IMG.image_prov, image_uri))\n",
    "            g.add((image_uri, RDF.type, IMG.image_provenance))\n",
    "            g.add((image_uri, IMG.coord, Literal(coords_points)))\n",
    "    \n",
    "    g.serialize(f\"data/triples/{image_name}_provenance.trig\", format='trig')\n",
    "add_provenance_graph(f\"data/labels/{image_name}.xml\")"
   ]
  }
 ],
 "metadata": {
  "kernelspec": {
   "display_name": "htr_test",
   "language": "python",
   "name": "python3"
  },
  "language_info": {
   "codemirror_mode": {
    "name": "ipython",
    "version": 3
   },
   "file_extension": ".py",
   "mimetype": "text/x-python",
   "name": "python",
   "nbconvert_exporter": "python",
   "pygments_lexer": "ipython3",
   "version": "3.11.0"
  }
 },
 "nbformat": 4,
 "nbformat_minor": 5
}
