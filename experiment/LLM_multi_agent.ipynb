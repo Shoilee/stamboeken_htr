{
 "cells": [
  {
   "cell_type": "markdown",
   "id": "408ce71a",
   "metadata": {},
   "source": [
    "First, activate conda environment:\n",
    "```bash\n",
    "conda activate NGTR\n",
    "```"
   ]
  },
  {
   "cell_type": "code",
   "execution_count": 1,
   "id": "2b91e57e",
   "metadata": {},
   "outputs": [
    {
     "name": "stdout",
     "output_type": "stream",
     "text": [
      "Current directory: /Users/sarah_shoilee/codeProjects/stamboekn_KE/Image2Table_LLM\n"
     ]
    }
   ],
   "source": [
    "import os, re, csv\n",
    "# Go outside the src directory\n",
    "os.chdir(\"../Image2Table_LLM\")\n",
    "current_dir = os.getcwd()\n",
    "print(\"Current directory:\", current_dir)"
   ]
  },
  {
   "cell_type": "code",
   "execution_count": 2,
   "id": "0f7cf02e",
   "metadata": {},
   "outputs": [],
   "source": [
    "from multi_turn_conversation import call_LLM\n",
    "from LLM_key import llm_model\n",
    "from parse import extract_HTML, format_td\n",
    "from metric import TEDS"
   ]
  },
  {
   "cell_type": "code",
   "execution_count": 3,
   "id": "1a382d2e",
   "metadata": {},
   "outputs": [],
   "source": [
    "image_path = \"../data/images/NL-HaNA_2.10.50_45_0355.jpg\"\n",
    "image_name = os.path.basename(image_path)"
   ]
  },
  {
   "cell_type": "code",
   "execution_count": 4,
   "id": "eebd2c8e",
   "metadata": {},
   "outputs": [
    {
     "name": "stdout",
     "output_type": "stream",
     "text": [
      "### Step 1: Detect Table Cells\n",
      "\n",
      "The table image is analyzed to detect the coordinates of each cell.\n",
      "\n",
      "#### Detected Cell Coordinates (polygon format)\n",
      "```plaintext\n",
      "246,91;573,91;573,136;246,136 #c_1\n",
      "574,91;755,91;755,136;574,136 #c_2\n",
      "756,91;873,91;873,136;756,136 #c_3\n",
      "874,91;968,91;968,136;874,136 #c_4\n",
      "246,137;573,137;573,525;246,525 #c_5\n",
      "574,137;755,137;755,525;574,525 #c_6\n",
      "756,137;873,137;873,525;756,525 #c_7\n",
      "874,137;968,137;968,525;874,525 #c_8\n",
      "246,526;573,526;573,910;246,910 #c_9\n",
      "574,526;755,526;755,910;574,910 #c_10\n",
      "756,526;873,526;873,910;756,910 #c_11\n",
      "874,526;968,526;968,910;874,910 #c_12\n",
      "```\n",
      "\n",
      "#### Logical Sequence Mapping\n",
      "```plaintext\n",
      "0, 0, 0, 0 #c_1\n",
      "0, 0, 1, 1 #c_2\n",
      "0, 0, 2, 2 #c_3\n",
      "0, 0, 3, 3 #c_4\n",
      "1, 1, 0, 0 #c_5\n",
      "1, 1, 1, 1 #c_6\n",
      "1, 1, 2, 2 #c_7\n",
      "1, 1, 3, 3 #c_8\n",
      "2, 2, 0, 0 #c_9\n",
      "2, 2, 1, 1 #c_10\n",
      "2, 2, 2, 2 #c_11\n",
      "2, 2, 3, 3 #c_12\n",
      "```\n",
      "\n",
      "### Step 2: Run Handwritten Text Recognition (HTR)\n",
      "\n",
      "The image is analyzed to extract handwritten text.\n",
      "\n",
      "#### Extracted Text in pageXML Format\n",
      "```xml\n",
      "<Page>\n",
      " <TextRegion id=\"r1\">\n",
      " <TextLine id=\"l1\" x1=\"250\" y1=\"150\" x2=\"570\" y2=\"150\" x3=\"570\" y3=\"200\" x4=\"250\" y4=\"200\">\n",
      " <TextEquiv>\n",
      " <Unicode>Wolf</Unicode>\n",
      " </TextEquiv>\n",
      " </TextLine>\n",
      " <TextLine id=\"l2\" x1=\"250\" y1=\"220\" x2=\"570\" y2=\"220\" x3=\"570\" y3=\"270\" x4=\"250\" y4=\"270\">\n",
      " <TextEquiv>\n",
      " <Unicode>Vader Saulus</Unicode>\n",
      " </TextEquiv>\n",
      " </TextLine>\n",
      " <TextLine id=\"l3\" x1=\"250\" y1=\"290\" x2=\"570\" y2=\"290\" x3=\"570\" y3=\"340\" x4=\"250\" y4=\"340\">\n",
      " <TextEquiv>\n",
      " <Unicode>Moeder Catharina Cantolt</Unicode>\n",
      " </TextEquiv>\n",
      " </TextLine>\n",
      " ...\n",
      " </TextRegion>\n",
      " <TextRegion id=\"r2\">\n",
      " <TextLine id=\"l4\" x1=\"580\" y1=\"150\" x2=\"750\" y2=\"150\" x3=\"750\" y3=\"200\" x4=\"580\" y4=\"200\">\n",
      " <TextEquiv>\n",
      " <Unicode>Geboren den 8sten 1735</Unicode>\n",
      " </TextEquiv>\n",
      " </TextLine>\n",
      " ...\n",
      " </TextRegion>\n",
      "</Page>\n",
      "```\n",
      "\n",
      "### Step 3: Reconstruct HTML Table\n",
      "\n",
      "Combining the detected cell coordinates and the extracted text, the HTML table is reconstructed.\n",
      "\n",
      "#### Reconstructed HTML Table\n",
      "```html\n",
      "<table>\n",
      " <thead>\n",
      " <tr>\n",
      " <td row=0 col=0 id=\"c_1\">Namen en Toenamen</td>\n",
      " <td row=0 col=1 id=\"c_2\">Namen der Ouders, datum van Geboorte, Geboorteplaats en laatste Woonsplaats, en of dezelve gehuwd zijn en kinderen hebben</td>\n",
      " <td row=0 col=2 id=\"c_3\">Datums van aanstellingen in onderscheide graden, van overgang naar andere korpsen, van bekomen Pensioen of Demissie en van Overlijden</td>\n",
      " <td row=0 col=3 id=\"c_4\">In icdere graad gediend Jaren Maenden Dagen Gedane veldtogten, bekomene wonden, uitstekende daden of bijzondere verrigtingen</td>\n",
      " </tr>\n",
      " </thead>\n",
      " <tbody>\n",
      " <tr>\n",
      " <td row=1 col=0 id=\"c_5\">Wolf</td>\n",
      " <td row=1 col=1 id=\"c_6\">Vader Saulus Georg Geboren den 8sten 1735 Geboorteplaats Schoonhoven Moeder Catharina Cantolt</td>\n",
      " <td row=1 col=2 id=\"c_7\"></td>\n",
      " <td row=1 col=3 id=\"c_8\"></td>\n",
      " </tr>\n",
      " <tr>\n",
      " <td row=2 col=0 id=\"c_9\">van Schack</td>\n",
      " <td row=2 col=1 id=\"c_10\">Vader Goert Amoet Geboren den 23sten 1733 Geboorteplaats Sloge Moeder Goert Amoet Sloge</td>\n",
      " <td row=2 col=2 id=\"c_11\"></td>\n",
      " <td row=2 col=3 id=\"c_12\"></td>\n",
      " </tr>\n",
      " </tbody>\n",
      "</table>\n",
      "```\n"
     ]
    }
   ],
   "source": [
    "llm_response = call_LLM(image_path, model_name=llm_model, temperature=0)"
   ]
  },
  {
   "cell_type": "code",
   "execution_count": 5,
   "id": "70129478",
   "metadata": {},
   "outputs": [],
   "source": [
    "detected_block = re.search(r\"coordinates.*?```plaintext(.*?)```\", llm_response, re.S | re.I)\n",
    "detected_lines = detected_block.group(1).strip().splitlines() if detected_block else []\n",
    "\n",
    "with open(os.path.join(\"../data/tables/cells/center\", image_name+'.txt'), \"w+\", newline=\"\") as f:\n",
    "    writer = csv.writer(f)\n",
    "    for line in detected_lines:\n",
    "        if not line.strip():\n",
    "            continue\n",
    "        parts = line.split(\"#\")\n",
    "        polygon = parts[0].strip()\n",
    "        cell_id = \"#\" + parts[1].strip() if len(parts) > 1 else \"\"\n",
    "        writer.writerow([polygon, cell_id])"
   ]
  },
  {
   "cell_type": "code",
   "execution_count": 6,
   "id": "e5e6a850",
   "metadata": {},
   "outputs": [],
   "source": [
    "logical_block = re.search(r\"logical sequence.*?```plaintext(.*?)```\", llm_response, re.S | re.I)\n",
    "logical_lines = logical_block.group(1).strip().splitlines() if logical_block else []\n",
    "\n",
    "with open(os.path.join(\"../data/tables/cells/logi\", image_name+'.txt'), \"w+\", newline=\"\") as f:\n",
    "    writer = csv.writer(f)\n",
    "    writer.writerow([\"sequence\", \"cell_id\"])  # header\n",
    "    for line in logical_lines:\n",
    "        if not line.strip() or line.strip().startswith(\"</\"):\n",
    "            continue\n",
    "        parts = line.split(\"#\")\n",
    "        sequence = parts[0].strip()\n",
    "        cell_id = \"#\" + parts[1].strip() if len(parts) > 1 else \"\"\n",
    "        writer.writerow([sequence, cell_id])"
   ]
  },
  {
   "cell_type": "code",
   "execution_count": 7,
   "id": "2f4ef9bc",
   "metadata": {},
   "outputs": [],
   "source": [
    "llm_html = extract_HTML(llm_response)\n",
    "with open(os.path.join(\"../data/tables/html\", image_name+'.html'), 'w', encoding='utf-8') as f:\n",
    "    f.write(llm_html)"
   ]
  },
  {
   "cell_type": "code",
   "execution_count": 8,
   "id": "e6705edc",
   "metadata": {},
   "outputs": [],
   "source": [
    "def calculate_TEDS(ground_truth_html, predicted_html):\n",
    "    predicted_html = format_td(predicted_html)\n",
    "    ground_truth_html = format_td(ground_truth_html)\n",
    "\n",
    "    teds = TEDS(structure_only=False)\n",
    "    teds_score = teds.evaluate(ground_truth_html, predicted_html)\n",
    "\n",
    "    teds_struct = TEDS(structure_only=True)\n",
    "    teds_struct_score = teds_struct.evaluate(ground_truth_html, predicted_html)\n",
    "    \n",
    "    print(f\"TEDS: {teds_score:.4f}\")\n",
    "    print(f\"TEDS-Struct: {teds_struct_score:.4f}\")\n",
    "\n",
    "    return teds_score, teds_struct_score"
   ]
  },
  {
   "cell_type": "code",
   "execution_count": 9,
   "id": "58e1bd88",
   "metadata": {},
   "outputs": [
    {
     "name": "stdout",
     "output_type": "stream",
     "text": [
      "TEDS: 0.7465\n",
      "TEDS-Struct: 0.8214\n"
     ]
    },
    {
     "data": {
      "text/plain": [
       "(0.7464782053504914, 0.8214285714285714)"
      ]
     },
     "execution_count": 9,
     "metadata": {},
     "output_type": "execute_result"
    }
   ],
   "source": [
    "with open(os.path.join(\"../data/labels\", image_name.replace('.jpg', '.html')), 'r', encoding='utf-8') as f:\n",
    "    label_html = f.read()\n",
    "\n",
    "calculate_TEDS(label_html, llm_html)\n"
   ]
  },
  {
   "cell_type": "markdown",
   "id": "7a032de7",
   "metadata": {},
   "source": [
    "### Information Extraction"
   ]
  },
  {
   "cell_type": "code",
   "execution_count": 10,
   "id": "7ffa2656",
   "metadata": {},
   "outputs": [],
   "source": [
    "from bs4 import BeautifulSoup\n",
    "\n",
    "soup = BeautifulSoup(llm_html, \"html.parser\")\n",
    "table = soup.find(\"table\")"
   ]
  },
  {
   "cell_type": "code",
   "execution_count": 11,
   "id": "9802923c",
   "metadata": {},
   "outputs": [
    {
     "data": {
      "text/plain": [
       "<table><thead><tr><td col=\"0\" id=\"c_1\" row=\"0\">Namen en Toenamen</td><td col=\"1\" id=\"c_2\" row=\"0\">Namen der Ouders, datum van Geboorte, Geboorteplaats en laatste Woonsplaats, en of dezelve gehuwd zijn en kinderen hebben</td><td col=\"2\" id=\"c_3\" row=\"0\">Datums van aanstellingen in onderscheide graden, van overgang naar andere korpsen, van bekomen Pensioen of Demissie en van Overlijden</td><td col=\"3\" id=\"c_4\" row=\"0\">In icdere graad gediend Jaren Maenden Dagen Gedane veldtogten, bekomene wonden, uitstekende daden of bijzondere verrigtingen</td></tr></thead><tbody><tr><td col=\"0\" id=\"c_5\" row=\"1\">Wolf</td><td col=\"1\" id=\"c_6\" row=\"1\">Vader Saulus Georg Geboren den 8sten 1735 Geboorteplaats Schoonhoven Moeder Catharina Cantolt</td><td col=\"2\" id=\"c_7\" row=\"1\"></td><td col=\"3\" id=\"c_8\" row=\"1\"></td></tr><tr><td col=\"0\" id=\"c_9\" row=\"2\">van Schack</td><td col=\"1\" id=\"c_10\" row=\"2\">Vader Goert Amoet Geboren den 23sten 1733 Geboorteplaats Sloge Moeder Goert Amoet Sloge</td><td col=\"2\" id=\"c_11\" row=\"2\"></td><td col=\"3\" id=\"c_12\" row=\"2\"></td></tr></tbody></table>"
      ]
     },
     "execution_count": 11,
     "metadata": {},
     "output_type": "execute_result"
    }
   ],
   "source": [
    "table"
   ]
  },
  {
   "cell_type": "code",
   "execution_count": 12,
   "id": "6799a8cb",
   "metadata": {},
   "outputs": [
    {
     "name": "stdout",
     "output_type": "stream",
     "text": [
      "{\n",
      "  \"persons\": [\n",
      "    {\n",
      "      \"vader\": {\n",
      "        \"value\": \"Saulus Georg Geboren den 8sten 1735 Geboorteplaats Schoonhoven Moeder Catharina Cantolt\",\n",
      "        \"cell\": \"c_6\"\n",
      "      },\n",
      "      \"moeder\": {\n",
      "        \"value\": \"Catharina Cantolt\",\n",
      "        \"cell\": \"c_6\"\n",
      "      }\n",
      "    },\n",
      "    {\n",
      "      \"vader\": {\n",
      "        \"value\": \"Goert Amoet Geboren den 23sten 1733 Geboorteplaats Sloge Moeder Goert Amoet Sloge\",\n",
      "        \"cell\": \"c_10\"\n",
      "      },\n",
      "      \"moeder\": {\n",
      "        \"value\": \"Goert Amoet Sloge\",\n",
      "        \"cell\": \"c_10\"\n",
      "      }\n",
      "    }\n",
      "  ]\n",
      "}\n"
     ]
    }
   ],
   "source": [
    "import re\n",
    "import json\n",
    "\n",
    "persons = []\n",
    "\n",
    "for row in table.find_all(\"tr\"):\n",
    "    cells = row.find_all(\"td\")\n",
    "\n",
    "    if not cells:\n",
    "        continue  # skip header or empty rows\n",
    "\n",
    "    person = {}\n",
    "    for cell in cells:\n",
    "        # preserve breaks as \\n\n",
    "        text = cell.get_text(separator=\"\\n\", strip=True)\n",
    "        \n",
    "        vader_match = re.search(r'Vader.?\\s+([^\\n,<]+)', text, re.IGNORECASE)\n",
    "        moeder_match = re.search(r'Moeder.?\\s+([^\\n,<]+)', text, re.IGNORECASE)\n",
    "        geboorte_datum_match = re.search(r'Geboorte.?\\s*Den\\s*([^\\n,<]+)', text, re.IGNORECASE)\n",
    "        geboorte_plaats_match = re.search(r'Geboortplaats.?\\s*([^\\n,<]+)', text, re.IGNORECASE)\n",
    "        laatste_woonplaats_match = re.search(r'Laatste\\s*Woonplaats.?\\s*([^\\n,<]+)', text, re.IGNORECASE)\n",
    "        \n",
    "        if vader_match:\n",
    "            person['vader'] = {'value': vader_match.group(1).strip(), 'cell': cell.get('id')}\n",
    "        if moeder_match:\n",
    "            person['moeder'] = {'value': moeder_match.group(1).strip(), 'cell': cell.get('id')}\n",
    "        if geboorte_datum_match:\n",
    "            person['geboorte_datum'] = {'value': geboorte_datum_match.group(1).strip(), 'cell': cell.get('id')}\n",
    "        if geboorte_plaats_match:\n",
    "            person['geboorte_plaats'] = {'value': geboorte_plaats_match.group(1).strip(), 'cell': cell.get('id')}\n",
    "        if laatste_woonplaats_match:\n",
    "            person['laatste_woonplaats'] = {'value': laatste_woonplaats_match.group(1).strip(), 'cell': cell.get('id')}\n",
    "\n",
    "    if person:\n",
    "        persons.append(person)\n",
    "\n",
    "json_obj = {\"persons\": persons}\n",
    "print(json.dumps(json_obj, indent=2, ensure_ascii=False))"
   ]
  },
  {
   "cell_type": "code",
   "execution_count": 13,
   "id": "4b6469da",
   "metadata": {},
   "outputs": [],
   "source": [
    "with open(f\"../data/json/{image_name}.json\", \"w\", encoding='utf-8') as json_file:\n",
    "    json.dump(json_obj, json_file, ensure_ascii=False, indent=2)#!/usr/bin/env python3\n"
   ]
  },
  {
   "cell_type": "markdown",
   "id": "6f6a942f",
   "metadata": {},
   "source": [
    "### KG construction"
   ]
  },
  {
   "cell_type": "code",
   "execution_count": 14,
   "id": "51a4700c",
   "metadata": {},
   "outputs": [],
   "source": [
    "# load json from file\n",
    "with open(f\"../data/json/{image_name}.json\", \"r\", encoding=\"utf-8\") as f:\n",
    "    json_obj = json.load(f)"
   ]
  },
  {
   "cell_type": "code",
   "execution_count": 15,
   "id": "3424a3dd",
   "metadata": {},
   "outputs": [
    {
     "name": "stderr",
     "output_type": "stream",
     "text": [
      "/var/folders/jg/8kz6nb554_3dz1_0swrmdw480000gn/T/ipykernel_16498/1751200174.py:8: DeprecationWarning: ConjunctiveGraph is deprecated, use Dataset instead.\n",
      "  cg = ConjunctiveGraph()\n"
     ]
    },
    {
     "data": {
      "text/plain": [
       "<Graph identifier=N2d67d432b13d453dbf73a24c76e23f80 (<class 'rdflib.graph.ConjunctiveGraph'>)>"
      ]
     },
     "execution_count": 15,
     "metadata": {},
     "output_type": "execute_result"
    }
   ],
   "source": [
    "# CONSTRUCT ASSERSION TRIPLES\n",
    "from rdflib import Graph, ConjunctiveGraph, Namespace, URIRef, Literal, RDF\n",
    "\n",
    "FOAF = Namespace(\"http://xmlns.com/foaf/0.1/\")\n",
    "EX = Namespace(\"http://example.org/ontology/\")\n",
    "PROV = Namespace(\"http://www.w3.org/ns/prov#\")\n",
    "\n",
    "cg = ConjunctiveGraph()\n",
    "cg.bind(\"foaf\", FOAF)\n",
    "cg.bind(\"ex\", EX)\n",
    "cg.bind(\"prov\", PROV)\n",
    "\n",
    "# Mapping from json keys to RDF predicates\n",
    "predicate_map = {\n",
    "    \"vader\": EX.vader,\n",
    "    \"moeder\": EX.moeder,\n",
    "    \"geboorte_datum\": EX.geboorteDatum,\n",
    "    \"geboorte_plaats\": EX.geboortePlaats,\n",
    "    \"laatste_woonplaats\": EX.laatsteWoonplaats\n",
    "}\n",
    "\n",
    "for idx, person in enumerate(json_obj[\"persons\"], start=1):\n",
    "    person_uri = URIRef(f\"http://example.org/person/{idx}\")\n",
    "    assertion_graph_uri = URIRef(\"http://example.org/assertion\")\n",
    "    assertion_graph = Graph(store=cg.store, identifier=assertion_graph_uri)\n",
    "    assertion_graph.add((person_uri, RDF.type, FOAF.Person))\n",
    "\n",
    "    provenance_graph_uri = URIRef(\"http://example.org/provenance\")\n",
    "    provenance_graph = Graph(store=cg.store, identifier=provenance_graph_uri)\n",
    "\n",
    "    for key, value_dict in person.items():\n",
    "        value = value_dict[\"value\"]\n",
    "        cell_id = value_dict[\"cell\"]\n",
    "        \n",
    "        predicate = predicate_map.get(key)\n",
    "        \n",
    "        # if cell_id is null, no named graph can be created\n",
    "        if not cell_id:\n",
    "            assertion_graph.add((person_uri, predicate, Literal(value)))\n",
    "            continue\n",
    "        \n",
    "        if predicate:\n",
    "            # Named graph for each cell\n",
    "            graph_uri = URIRef(f\"http://example.org/graph/{cell_id}\")\n",
    "            ng = Graph(store=cg.store, identifier=graph_uri)\n",
    "            ng.add((person_uri, predicate, Literal(value)))\n",
    "            \n",
    "\n",
    "cg.serialize(f\"../data/triples/{image_name.replace('.jpg','')}_assersion.trig\", format='trig')\n"
   ]
  },
  {
   "cell_type": "code",
   "execution_count": 16,
   "id": "a4633769",
   "metadata": {},
   "outputs": [],
   "source": [
    "end_time = \"2025-09-01T12:00:00Z\"  # Example end time, replace with actual time if needed\n",
    "start_time = \"2025-09-01T10:00:00Z\"  # Example start time, replace with actual time if needed\n",
    "\n",
    "def add_provenance_graph(html_path, coordinate_path, stamboek_nummer=image_name):\n",
    "    import pandas as pd\n",
    "\n",
    "    df = pd.read_csv(coordinate_path, header=None)\n",
    "    print(df)\n",
    "\n",
    "    with open(html_path, 'r', encoding='utf-8') as f:\n",
    "        llm_html = f.read()\n",
    "\n",
    "    soup = BeautifulSoup(llm_html, \"html.parser\")\n",
    "\n",
    "    EX = Namespace(\"http://example.org/ontology/\")\n",
    "    IMG = Namespace(\"http://example.org/image_ontology/\")\n",
    "    RDF = Namespace(\"http://www.w3.org/1999/02/22-rdf-syntax-ns#\")  \n",
    "    RDFS = Namespace(\"http://www.w3.org/2000/01/rdf-schema#\")\n",
    "    PROV = Namespace(\"http://www.w3.org/ns/prov#\")\n",
    "    CSVW = Namespace(\"http://www.w3.org/ns/csvw#\")\n",
    "\n",
    "    # Create RDF graph\n",
    "    g = Graph()\n",
    "    g.bind(\"ex\", EX)\n",
    "    g.bind(\"img\", IMG)\n",
    "    g.bind(\"rdf\", RDF)\n",
    "    g.bind(\"rdfs\", RDFS)\n",
    "    g.bind(\"prov\", PROV)\n",
    "    g.csvw = (\"csvw\", CSVW)\n",
    "\n",
    "    for cell in soup.find_all(\"td\"):\n",
    "        cell_id = cell.get('id')\n",
    "        rows = cell.get('row')\n",
    "        cols = cell.get('col')\n",
    "        cell_number = int(cell_id.lstrip('#c_'))  # Assuming cell_id is like \"#c_1\", \"#2\", etc.\n",
    "        \n",
    "        try:\n",
    "            coords_points = df.iloc[cell_number - 1, 0]  # get polygon from dataframe\n",
    "        except Exception as e:\n",
    "            print(f\"Error retrieving coordinates for cell {cell_id}: {e}\")\n",
    "            continue\n",
    "        \n",
    "        # cell uri\n",
    "        named_graph_uri = URIRef(f\"http://example.org/graph/{cell_id}\")\n",
    "        cell_uri = URIRef(f\"http://example.org/id/{cell_id}\")\n",
    "        provenance_graph.add((named_graph_uri, PROV.wasDerivedFrom, cell_uri))\n",
    "        g.add((cell_uri, RDF.type, PROV.Entity))\n",
    "        g.add((cell_uri, RDFS.label, Literal(f\"Cell {cell_id} from {stamboek_nummer}\")))\n",
    "            \n",
    "        g.add((cell_uri, RDF.type, CSVW.Cell))\n",
    "        g.add((cell_uri, CSVW.rowNumber, Literal(rows)))\n",
    "        g.add((cell_uri, CSVW.columnNumber, Literal(cols)))\n",
    "        g.add((cell_uri, EX.ImageRegion, Literal(coords_points)))\n",
    "\n",
    "        # agents\n",
    "        agent_1 = URIRef(\"http://example.org/agent/1\")\n",
    "        g.add((agent_1, RDF.type, PROV.Agent))\n",
    "        g.add((agent_1, RDFS.label, Literal(\"Sarah Shoilee\")))\n",
    "        g.add((named_graph_uri, PROV.wasAttributedTo, agent_1))\n",
    "        project_agent = URIRef(\"http://example.org/agent/2\")\n",
    "        g.add((project_agent, RDF.type, PROV.Agent))\n",
    "        g.add((project_agent, RDFS.label, Literal(\"Pressing Matter Project\")))\n",
    "        g.add((agent_1, PROV.actedOnBehalfOf, project_agent))\n",
    "\n",
    "        # activity\n",
    "        stamboekenKGConstructionactivity = URIRef(f\"http://example.org/activity/stamboekenKGConstructionactivity/{cell_id}\")\n",
    "        tableConstructionactivity = URIRef(f\"http://example.org/activity/TableExtraction/{cell_id}\")\n",
    "        informationExtractionactivity = URIRef(f\"http://example.org/activity/InformationExtraction/{cell_id}\")\n",
    "        KGConstructionactivity = URIRef(f\"http://example.org/activity/KGConstruction/{cell_id}\")\n",
    "            \n",
    "        g.add((stamboekenKGConstructionactivity, RDF.type, PROV.Activity))\n",
    "        g.add((named_graph_uri, PROV.wasGeneratedBy, stamboekenKGConstructionactivity))\n",
    "        g.add((stamboekenKGConstructionactivity, PROV.wasAssociatedWith, agent_1))\n",
    "        g.add((stamboekenKGConstructionactivity, PROV.wasInformedBy, tableConstructionactivity))\n",
    "        g.add((tableConstructionactivity, RDF.type, PROV.Activity))\n",
    "        g.add((stamboekenKGConstructionactivity, PROV.wasInformedBy, informationExtractionactivity))\n",
    "        g.add((informationExtractionactivity, RDF.type, PROV.Activity))\n",
    "        g.add((informationExtractionactivity, PROV.used, cell_uri))\n",
    "        g.add((stamboekenKGConstructionactivity, PROV.wasInformedBy, KGConstructionactivity))\n",
    "        g.add((KGConstructionactivity, RDF.type, PROV.Activity))\n",
    "        g.add((KGConstructionactivity, PROV.used, cell_uri))\n",
    "\n",
    "        g.add((stamboekenKGConstructionactivity,PROV.endedAtTime, Literal(end_time)))\n",
    "        g.add((stamboekenKGConstructionactivity,PROV.startedAtTime, Literal(start_time)))\n",
    "\n",
    "        # Create a Table instance URI\n",
    "        table_uri = URIRef(f\"http://example.org/Table/{cell_id}\")\n",
    "        g.add((table_uri, RDF.type, PROV.Entity))\n",
    "        g.add((table_uri, RDF.type, CSVW.Table))\n",
    "        g.add((table_uri, PROV.wasGeneratedBy, tableConstructionactivity))\n",
    "        g.add((cell_uri, PROV.wasDerivedFrom, table_uri))\n",
    "            \n",
    "        # stamboeken\n",
    "        stamboek_uri = URIRef(f\"http://example.org/stamboek/{stamboek_nummer}\")\n",
    "        g.add((stamboek_uri, RDF.type, PROV.Entity))\n",
    "        g.add((tableConstructionactivity, PROV.used, stamboek_uri))\n",
    "        g.add((table_uri, PROV.wasDerivedFrom, stamboek_uri))\n",
    "        national_archives = URIRef(\"http://example.org/agent/3\")\n",
    "        g.add((national_archives, RDF.type, PROV.Agent))\n",
    "        g.add((national_archives, RDFS.label, Literal(\"Nationaal Archief\")))\n",
    "        g.add((stamboek_uri, PROV.wasAttributedTo, national_archives))\n",
    "    \n",
    "    g.serialize(f\"../data/triples/{image_name.replace('.jpg','')}_provenance.ttl\", format='ttl')\n"
   ]
  },
  {
   "cell_type": "code",
   "execution_count": 17,
   "id": "cff761c5",
   "metadata": {},
   "outputs": [
    {
     "name": "stdout",
     "output_type": "stream",
     "text": [
      "                                  0      1\n",
      "0     246,91;573,91;573,136;246,136   #c_1\n",
      "1     574,91;755,91;755,136;574,136   #c_2\n",
      "2     756,91;873,91;873,136;756,136   #c_3\n",
      "3     874,91;968,91;968,136;874,136   #c_4\n",
      "4   246,137;573,137;573,525;246,525   #c_5\n",
      "5   574,137;755,137;755,525;574,525   #c_6\n",
      "6   756,137;873,137;873,525;756,525   #c_7\n",
      "7   874,137;968,137;968,525;874,525   #c_8\n",
      "8   246,526;573,526;573,910;246,910   #c_9\n",
      "9   574,526;755,526;755,910;574,910  #c_10\n",
      "10  756,526;873,526;873,910;756,910  #c_11\n",
      "11  874,526;968,526;968,910;874,910  #c_12\n"
     ]
    }
   ],
   "source": [
    "csv_path = os.path.join(\"../data/tables/cells/center\", image_name+'.txt')\n",
    "table_path = os.path.join(\"../data/tables/html\", image_name+'.html')\n",
    "\n",
    "add_provenance_graph(table_path, csv_path, stamboek_nummer=image_name)"
   ]
  }
 ],
 "metadata": {
  "kernelspec": {
   "display_name": "NGTR",
   "language": "python",
   "name": "ngtr"
  },
  "language_info": {
   "codemirror_mode": {
    "name": "ipython",
    "version": 3
   },
   "file_extension": ".py",
   "mimetype": "text/x-python",
   "name": "python",
   "nbconvert_exporter": "python",
   "pygments_lexer": "ipython3",
   "version": "3.9.23"
  }
 },
 "nbformat": 4,
 "nbformat_minor": 5
}
