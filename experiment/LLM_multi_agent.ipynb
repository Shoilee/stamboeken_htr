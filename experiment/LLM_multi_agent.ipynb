{
 "cells": [
  {
   "cell_type": "markdown",
   "id": "408ce71a",
   "metadata": {},
   "source": [
    "First, activate conda environment:\n",
    "```bash\n",
    "conda activate NGTR\n",
    "```"
   ]
  },
  {
   "cell_type": "code",
   "execution_count": 1,
   "id": "2b91e57e",
   "metadata": {},
   "outputs": [
    {
     "name": "stdout",
     "output_type": "stream",
     "text": [
      "Current directory: /Users/sarah_shoilee/codeProjects/stamboekn_KE/Image2Table_LLM\n"
     ]
    }
   ],
   "source": [
    "import os, re, csv\n",
    "\n",
    "os.chdir(\"../Image2Table_LLM\")\n",
    "current_dir = os.getcwd()\n",
    "print(\"Current directory:\", current_dir)"
   ]
  },
  {
   "cell_type": "code",
   "execution_count": 2,
   "id": "0f7cf02e",
   "metadata": {},
   "outputs": [],
   "source": [
    "from multi_turn_conversation import call_LLM\n",
    "from LLM_key import llm_model\n",
    "from parse import extract_HTML, format_td\n",
    "from metric import TEDS"
   ]
  },
  {
   "cell_type": "code",
   "execution_count": 3,
   "id": "1a382d2e",
   "metadata": {},
   "outputs": [],
   "source": [
    "image_path = \"../data/images/NL-HaNA_2.10.50_45_0355.jpg\"\n",
    "image_name = os.path.basename(image_path)"
   ]
  },
  {
   "cell_type": "code",
   "execution_count": 4,
   "id": "eebd2c8e",
   "metadata": {},
   "outputs": [
    {
     "name": "stdout",
     "output_type": "stream",
     "text": [
      "### Step 1: Detecting Table Cells\n",
      "\n",
      "To detect the table cells, we need to analyze the provided image. The image appears to be a scanned page from an old book, containing a table with handwritten text.\n",
      "\n",
      "Upon closer inspection, we can identify the table structure and the coordinates of each cell.\n",
      "\n",
      "The detected cell coordinates are:\n",
      "```plaintext\n",
      "256,91;573,91;573,141;256,141 #c_1\n",
      "573,91;712,91;712,141;573,141 #c_2\n",
      "712,91;806,91;806,141;712,141 #c_3\n",
      "806,91;876,91;876,141;806,141 #c_4\n",
      "876,91;946,91;946,141;876,141 #c_5\n",
      "256,141;573,141;573,527;256,527 #c_6\n",
      "573,141;712,141;712,527;573,527 #c_7\n",
      "712,141;806,141;806,527;712,527 #c_8\n",
      "806,141;876,141;876,527;806,527 #c_9\n",
      "876,141;946,141;946,527;876,527 #c_10\n",
      "256,527;573,527;573,913;256,913 #c_11\n",
      "573,527;712,527;712,913;573,913 #c_12\n",
      "712,527;806,527;806,913;712,913 #c_13\n",
      "806,527;876,527;876,913;806,913 #c_14\n",
      "876,527;946,527;946,913;876,913 #c_15\n",
      "```\n",
      "\n",
      "The logical sequence mapping is:\n",
      "```plaintext\n",
      "0, 0, 0, 0 #c_1\n",
      "0, 0, 1, 1 #c_2\n",
      "0, 0, 2, 2 #c_3\n",
      "0, 0, 3, 3 #c_4\n",
      "0, 0, 4, 4 #c_5\n",
      "1, 1, 0, 0 #c_6\n",
      "1, 1, 1, 1 #c_7\n",
      "1, 1, 2, 2 #c_8\n",
      "1, 1, 3, 3 #c_9\n",
      "1, 1, 4, 4 #c_10\n",
      "2, 2, 0, 0 #c_11\n",
      "2, 2, 1, 1 #c_12\n",
      "2, 2, 2, 2 #c_13\n",
      "2, 2, 3, 3 #c_14\n",
      "2, 2, 4, 4 #c_15\n",
      "```\n",
      "\n",
      "### Step 2: Handwritten Text Recognition (HTR)\n",
      "\n",
      "To extract the handwritten text, we need to analyze the image and recognize the text within each cell.\n",
      "\n",
      "The extracted text in pageXML format is:\n",
      "```xml\n",
      "<Page>\n",
      " <TextRegion id=\"r1\">\n",
      " <TextLine id=\"l1\" x1=\"260\" y1=\"100\" x2=\"570\" y2=\"100\" x3=\"570\" y3=\"140\" x4=\"260\" y4=\"140\">\n",
      " <TextEquiv>\n",
      " <Unicode>Namen en Toennamen.</Unicode>\n",
      " </TextEquiv>\n",
      " </TextLine>\n",
      " <TextLine id=\"l2\" x1=\"580\" y1=\"100\" x2=\"710\" y2=\"100\" x3=\"710\" y3=\"140\" x4=\"580\" y4=\"140\">\n",
      " <TextEquiv>\n",
      " <Unicode>Namen der Ouders, datum van Geboorte, Geboorteplaats en laatste Woohnplaats, en of dezelve gehuwd zijn en kinderen hebben.</Unicode>\n",
      " </TextEquiv>\n",
      " </TextLine>\n",
      " <TextLine id=\"l3\" x1=\"720\" y1=\"100\" x2=\"805\" y2=\"100\" x3=\"805\" y3=\"140\" x4=\"720\" y4=\"140\">\n",
      " <TextEquiv>\n",
      " <Unicode>Datum van aanstellingen in onderscheide graden, van overgang naar andere korpsen, van bekomen Pensioen of Demissie en van Overlijden.</Unicode>\n",
      " </TextEquiv>\n",
      " </TextLine>\n",
      " <TextLine id=\"l4\" x1=\"815\" y1=\"100\" x2=\"875\" y2=\"100\" x3=\"875\" y3=\"140\" x4=\"815\" y4=\"140\">\n",
      " <TextEquiv>\n",
      " <Unicode>In icdere graad gediend.</Unicode>\n",
      " </TextEquiv>\n",
      " </TextLine>\n",
      " <TextLine id=\"l5\" x1=\"885\" y1=\"100\" x2=\"945\" y2=\"100\" x3=\"945\" y3=\"140\" x4=\"885\" y4=\"140\">\n",
      " <TextEquiv>\n",
      " <Unicode>Gedane veldtogten, bekomene wonden, uitstekende daden of bijzondere verrigtingen.</Unicode>\n",
      " </TextEquiv>\n",
      " </TextLine>\n",
      " <TextLine id=\"l6\" x1=\"260\" y1=\"200\" x2=\"570\" y2=\"200\" x3=\"570\" y3=\"520\" x4=\"260\" y4=\"520\">\n",
      " <TextEquiv>\n",
      " <Unicode>Wolf</Unicode>\n",
      " </TextEquiv>\n",
      " </TextLine>\n",
      " <TextLine id=\"l7\" x1=\"580\" y1=\"200\" x2=\"710\" y2=\"200\" x3=\"710\" y3=\"520\" x4=\"580\" y4=\"520\">\n",
      " <TextEquiv>\n",
      " <Unicode>Vader: Jacobus Swart Moeder: Catharina Canté Geboren den 8sten October 1773 Geboorteplaats: Schoonhoven Laatste Woohnplaats: Buille</Unicode>\n",
      " </TextEquiv>\n",
      " </TextLine>\n",
      " ...\n",
      " </TextRegion>\n",
      "</Page>\n",
      "```\n",
      "\n",
      "### Step 3: Reconstructing the HTML Table\n",
      "\n",
      "To reconstruct the HTML table, we need to compile the information from the detected cell coordinates and the extracted handwritten text.\n",
      "\n",
      "The reconstructed HTML table is:\n",
      "```html\n",
      "<table>\n",
      " <thead>\n",
      " <tr>\n",
      " <td row=0 col=0 id=\"c_1\">Namen en Toennamen.</td>\n",
      " <td row=0 col=1 id=\"c_2\">Namen der Ouders, datum van Geboorte, Geboorteplaats en laatste Woohnplaats, en of dezelve gehuwd zijn en kinderen hebben.</td>\n",
      " <td row=0 col=2 id=\"c_3\">Datum van aanstellingen in onderscheide graden, van overgang naar andere korpsen, van bekomen Pensioen of Demissie en van Overlijden.</td>\n",
      " <td row=0 col=3 id=\"c_4\">In icdere graad gediend.</td>\n",
      " <td row=0 col=4 id=\"c_5\">Gedane veldtogten, bekomene wonden, uitstekende daden of bijzondere verrigtingen.</td>\n",
      " </tr>\n",
      " </thead>\n",
      " <tbody>\n",
      " <tr>\n",
      " <td row=1 col=0 id=\"c_6\">Wolf</td>\n",
      " <td row=1 col=1 id=\"c_7\">Vader: Jacobus Swart Moeder: Catharina Canté Geboren den 8sten October 1773 Geboorteplaats: Schoonhoven Laatste Woohnplaats: Buille</td>\n",
      " <td row=1 col=2 id=\"c_8\"></td>\n",
      " <td row=1 col=3 id=\"c_9\"></td>\n",
      " <td row=1 col=4 id=\"c_10\"></td>\n",
      " </tr>\n",
      " <tr>\n",
      " <td row=2 col=0 id=\"c_11\">van Schack</td>\n",
      " <td row=2 col=1 id=\"c_12\">Vader: Cornelis Mandek Moeder: Maria Mandek Geboren den 23sten December 1771 Geboorteplaats: Sloeg Laatste Woohnplaats: Sloeg</td>\n",
      " <td row=2 col=2 id=\"c_13\"></td>\n",
      " <td row=2 col=3 id=\"c_14\"></td>\n",
      " <td row=2 col=4 id=\"c_15\"></td>\n",
      " </tr>\n",
      " </tbody>\n",
      "</table>\n",
      "```\n"
     ]
    }
   ],
   "source": [
    "llm_response = call_LLM(image_path, model_name=llm_model, temperature=0)"
   ]
  },
  {
   "cell_type": "code",
   "execution_count": 5,
   "id": "70129478",
   "metadata": {},
   "outputs": [],
   "source": [
    "detected_block = re.search(r\"coordinates.*?```plaintext(.*?)```\", llm_response, re.S | re.I)\n",
    "detected_lines = detected_block.group(1).strip().splitlines() if detected_block else []\n",
    "\n",
    "with open(os.path.join(\"../data/tables/cells/center\", image_name+'.txt'), \"w+\", newline=\"\") as f:\n",
    "    writer = csv.writer(f)\n",
    "    for line in detected_lines:\n",
    "        if not line.strip():\n",
    "            continue\n",
    "        parts = line.split(\"#\")\n",
    "        polygon = parts[0].strip()\n",
    "        cell_id = \"#\" + parts[1].strip() if len(parts) > 1 else \"\"\n",
    "        writer.writerow([polygon, cell_id])"
   ]
  },
  {
   "cell_type": "code",
   "execution_count": 6,
   "id": "e5e6a850",
   "metadata": {},
   "outputs": [],
   "source": [
    "logical_block = re.search(r\"logical sequence.*?```plaintext(.*?)```\", llm_response, re.S | re.I)\n",
    "logical_lines = logical_block.group(1).strip().splitlines() if logical_block else []\n",
    "\n",
    "with open(os.path.join(\"../data/tables/cells/logi\", image_name+'.txt'), \"w+\", newline=\"\") as f:\n",
    "    writer = csv.writer(f)\n",
    "    writer.writerow([\"sequence\", \"cell_id\"])  # header\n",
    "    for line in logical_lines:\n",
    "        if not line.strip() or line.strip().startswith(\"</\"):\n",
    "            continue\n",
    "        parts = line.split(\"#\")\n",
    "        sequence = parts[0].strip()\n",
    "        cell_id = \"#\" + parts[1].strip() if len(parts) > 1 else \"\"\n",
    "        writer.writerow([sequence, cell_id])"
   ]
  },
  {
   "cell_type": "code",
   "execution_count": 24,
   "id": "2f4ef9bc",
   "metadata": {},
   "outputs": [
    {
     "ename": "FileNotFoundError",
     "evalue": "[Errno 2] No such file or directory: '../data/tables/html/NL-HaNA_2.10.50_45_0355.jpg.html'",
     "output_type": "error",
     "traceback": [
      "\u001b[0;31m---------------------------------------------------------------------------\u001b[0m",
      "\u001b[0;31mFileNotFoundError\u001b[0m                         Traceback (most recent call last)",
      "\u001b[0;32m/var/folders/jg/8kz6nb554_3dz1_0swrmdw480000gn/T/ipykernel_34863/2630533285.py\u001b[0m in \u001b[0;36m<cell line: 7>\u001b[0;34m()\u001b[0m\n\u001b[1;32m      5\u001b[0m \u001b[0mllm_html\u001b[0m \u001b[0;34m=\u001b[0m \u001b[0mllm_html\u001b[0m\u001b[0;34m.\u001b[0m\u001b[0mreplace\u001b[0m\u001b[0;34m(\u001b[0m\u001b[0;34m\"<table>\"\u001b[0m\u001b[0;34m,\u001b[0m \u001b[0;34m\"<table border='1'>\"\u001b[0m\u001b[0;34m)\u001b[0m\u001b[0;34m\u001b[0m\u001b[0;34m\u001b[0m\u001b[0m\n\u001b[1;32m      6\u001b[0m \u001b[0msoup\u001b[0m \u001b[0;34m=\u001b[0m \u001b[0mBeautifulSoup\u001b[0m\u001b[0;34m(\u001b[0m\u001b[0mllm_html\u001b[0m\u001b[0;34m,\u001b[0m \u001b[0;34m'html.parser'\u001b[0m\u001b[0;34m)\u001b[0m\u001b[0;34m\u001b[0m\u001b[0;34m\u001b[0m\u001b[0m\n\u001b[0;32m----> 7\u001b[0;31m \u001b[0;32mwith\u001b[0m \u001b[0mopen\u001b[0m\u001b[0;34m(\u001b[0m\u001b[0mos\u001b[0m\u001b[0;34m.\u001b[0m\u001b[0mpath\u001b[0m\u001b[0;34m.\u001b[0m\u001b[0mjoin\u001b[0m\u001b[0;34m(\u001b[0m\u001b[0;34m\"../data/tables/html\"\u001b[0m\u001b[0;34m,\u001b[0m \u001b[0mimage_name\u001b[0m\u001b[0;34m+\u001b[0m\u001b[0;34m'.html'\u001b[0m\u001b[0;34m)\u001b[0m\u001b[0;34m,\u001b[0m \u001b[0;34m'w'\u001b[0m\u001b[0;34m,\u001b[0m \u001b[0mencoding\u001b[0m\u001b[0;34m=\u001b[0m\u001b[0;34m'utf-8'\u001b[0m\u001b[0;34m)\u001b[0m \u001b[0;32mas\u001b[0m \u001b[0mf\u001b[0m\u001b[0;34m:\u001b[0m\u001b[0;34m\u001b[0m\u001b[0;34m\u001b[0m\u001b[0m\n\u001b[0m\u001b[1;32m      8\u001b[0m     \u001b[0mf\u001b[0m\u001b[0;34m.\u001b[0m\u001b[0mwrite\u001b[0m\u001b[0;34m(\u001b[0m\u001b[0msoup\u001b[0m\u001b[0;34m.\u001b[0m\u001b[0mprettify\u001b[0m\u001b[0;34m(\u001b[0m\u001b[0;34m)\u001b[0m\u001b[0;34m)\u001b[0m\u001b[0;34m\u001b[0m\u001b[0;34m\u001b[0m\u001b[0m\n",
      "\u001b[0;31mFileNotFoundError\u001b[0m: [Errno 2] No such file or directory: '../data/tables/html/NL-HaNA_2.10.50_45_0355.jpg.html'"
     ]
    }
   ],
   "source": [
    "from bs4 import BeautifulSoup\n",
    "\n",
    "llm_html = extract_HTML(llm_response)\n",
    "\n",
    "llm_html = llm_html.replace(\"<table>\", \"<table border='1'>\")\n",
    "soup = BeautifulSoup(llm_html, 'html.parser')\n",
    "with open(os.path.join(\"../data/tables/html\", image_name+'.html'), 'w', encoding='utf-8') as f:\n",
    "    f.write(soup.prettify())"
   ]
  },
  {
   "cell_type": "code",
   "execution_count": 8,
   "id": "e6705edc",
   "metadata": {},
   "outputs": [],
   "source": [
    "def calculate_TEDS(ground_truth_html, predicted_html):\n",
    "    predicted_html = format_td(predicted_html)\n",
    "    ground_truth_html = format_td(ground_truth_html)\n",
    "\n",
    "    teds = TEDS(structure_only=False)\n",
    "    teds_score = teds.evaluate(ground_truth_html, predicted_html)\n",
    "\n",
    "    teds_struct = TEDS(structure_only=True)\n",
    "    teds_struct_score = teds_struct.evaluate(ground_truth_html, predicted_html)\n",
    "    \n",
    "    print(f\"TEDS: {teds_score:.4f}\")\n",
    "    print(f\"TEDS-Struct: {teds_struct_score:.4f}\")\n",
    "\n",
    "    return teds_score, teds_struct_score"
   ]
  },
  {
   "cell_type": "code",
   "execution_count": 9,
   "id": "58e1bd88",
   "metadata": {},
   "outputs": [
    {
     "name": "stdout",
     "output_type": "stream",
     "text": [
      "TEDS: 0.8503\n",
      "TEDS-Struct: 0.8929\n"
     ]
    },
    {
     "data": {
      "text/plain": [
       "(0.8502902297951391, 0.8928571428571429)"
      ]
     },
     "execution_count": 9,
     "metadata": {},
     "output_type": "execute_result"
    }
   ],
   "source": [
    "with open(os.path.join(\"../data/labels\", image_name.replace('.jpg', '.html')), 'r', encoding='utf-8') as f:\n",
    "    label_html = f.read()\n",
    "\n",
    "calculate_TEDS(label_html, llm_html)\n"
   ]
  },
  {
   "cell_type": "markdown",
   "id": "7a032de7",
   "metadata": {},
   "source": [
    "### Information Extraction"
   ]
  },
  {
   "cell_type": "code",
   "execution_count": 10,
   "id": "b03c6e20",
   "metadata": {},
   "outputs": [
    {
     "name": "stdout",
     "output_type": "stream",
     "text": [
      "Current directory: /Users/sarah_shoilee/codeProjects/stamboekn_KE\n"
     ]
    }
   ],
   "source": [
    "# Go outside the src directory\n",
    "os.chdir(\"..\")\n",
    "current_dir = os.getcwd()\n",
    "print(\"Current directory:\", current_dir)"
   ]
  },
  {
   "cell_type": "code",
   "execution_count": 11,
   "id": "02cbb1f9",
   "metadata": {},
   "outputs": [],
   "source": [
    "from bs4 import BeautifulSoup\n",
    "\n",
    "soup = BeautifulSoup(llm_html, 'html.parser')\n",
    "\n",
    "rows = soup.find_all('tr')\n",
    "\n",
    "# --- Step 1: make a grid keeping track of rowspans ---\n",
    "logical_rows = []\n",
    "rowspans = {}  # {(col_idx): [remaining_rows, cell_content]}\n",
    "\n",
    "for r_idx, tr in enumerate(rows):\n",
    "    # Start with any carried over rowspans from previous rows\n",
    "    current_row = []\n",
    "    to_remove = []\n",
    "\n",
    "    # Fill carried-down cells first\n",
    "    for col_idx, (remaining, cell) in rowspans.items():\n",
    "        current_row.append(cell)\n",
    "        rowspans[col_idx][0] -= 1\n",
    "        if rowspans[col_idx][0] <= 0:\n",
    "            to_remove.append(col_idx)\n",
    "    for col_idx in to_remove:\n",
    "        del rowspans[col_idx]\n",
    "\n",
    "    # Now add new cells from this row\n",
    "    c_idx = 0\n",
    "    for td in tr.find_all('td'):\n",
    "        while any(k == c_idx for k in rowspans):  # skip columns occupied by carried cells\n",
    "            c_idx += 1\n",
    "        text = td.get_text(\" \", strip=True)\n",
    "        cell_id = td.get('id')\n",
    "        r_idx = int(td.get('row', r_idx))\n",
    "        c_idx = int(td.get('col', c_idx))\n",
    "        rowspan = int(td.get('rowspan', 1))\n",
    "        colspan = int(td.get('colspan', 1))\n",
    "\n",
    "        cell_data = {\n",
    "            'text': text,\n",
    "            'id': cell_id,\n",
    "            'row': r_idx,\n",
    "            'col': c_idx,\n",
    "            'rowspan': rowspan,\n",
    "            'colspan': colspan\n",
    "        }\n",
    "\n",
    "        # Place cell in current row\n",
    "        current_row.append(cell_data)\n",
    "\n",
    "        # Store for future rows if rowspan > 1\n",
    "        if rowspan > 1:\n",
    "            rowspans[c_idx] = [rowspan - 1, cell_data]\n",
    "\n",
    "        c_idx += colspan\n",
    "\n",
    "    logical_rows.append(current_row)\n"
   ]
  },
  {
   "cell_type": "code",
   "execution_count": 27,
   "id": "31bccbb9",
   "metadata": {},
   "outputs": [
    {
     "name": "stdout",
     "output_type": "stream",
     "text": [
      "{\n",
      "  \"persons\": [\n",
      "    {\n",
      "      \"geboorte_datum\": {\n",
      "        \"cell\": \"c_12\",\n",
      "        \"value\": \"23sten December 1771\"\n",
      "      },\n",
      "      \"geboorte_plaats\": {\n",
      "        \"cell\": \"c_12\",\n",
      "        \"value\": \"Sloeg\"\n",
      "      },\n",
      "      \"laatste_woonplaats\": {\n",
      "        \"cell\": \"c_12\",\n",
      "        \"value\": \"Sloeg\"\n",
      "      },\n",
      "      \"moeder\": {\n",
      "        \"cell\": \"c_12\",\n",
      "        \"value\": \"Maria Mandek\"\n",
      "      },\n",
      "      \"vader\": {\n",
      "        \"cell\": \"c_12\",\n",
      "        \"value\": \"Cornelis Mandek\"\n",
      "      }\n",
      "    },\n",
      "    {\n",
      "      \"geboorte_datum\": {\n",
      "        \"cell\": \"c_7\",\n",
      "        \"value\": \"8sten October 1773\"\n",
      "      },\n",
      "      \"geboorte_plaats\": {\n",
      "        \"cell\": \"c_7\",\n",
      "        \"value\": \"Schoonhoven\"\n",
      "      },\n",
      "      \"laatste_woonplaats\": {\n",
      "        \"cell\": \"c_7\",\n",
      "        \"value\": \"Buille\"\n",
      "      },\n",
      "      \"moeder\": {\n",
      "        \"cell\": \"c_7\",\n",
      "        \"value\": \"Catharina Canté\"\n",
      "      },\n",
      "      \"vader\": {\n",
      "        \"cell\": \"c_7\",\n",
      "        \"value\": \"Jacobus Swart\"\n",
      "      }\n",
      "    }\n",
      "  ]\n",
      "}\n"
     ]
    }
   ],
   "source": [
    "import re\n",
    "import json\n",
    "from src.person_info_extraction import extract_info_regex, extract_info_LLM\n",
    "\n",
    "persons = []\n",
    "\n",
    "for i, row in enumerate(logical_rows):\n",
    "    person = {}\n",
    "        \n",
    "    # print(generate_prompt(cells))\n",
    "    person = json.loads(extract_info_LLM(row))\n",
    "    if all(v['value']==None for v in person.values()):\n",
    "        continue\n",
    "\n",
    "    if person:\n",
    "        persons.append(person)\n",
    "\n",
    "unique_persons = {json.dumps(person, sort_keys=True) for person in persons}\n",
    "unique_persons_list = [json.loads(p) for p in unique_persons]\n",
    "        \n",
    "json_obj = {\"persons\": unique_persons_list}\n",
    "print(json.dumps(json_obj, indent=2, ensure_ascii=False))"
   ]
  },
  {
   "cell_type": "code",
   "execution_count": 28,
   "id": "99ba0fcf",
   "metadata": {},
   "outputs": [],
   "source": [
    "with open(f\"data/json/{image_name}.json\", \"w\", encoding='utf-8') as json_file:\n",
    "    json.dump(json_obj, json_file, ensure_ascii=False, indent=2)#!/usr/bin/env python3\n"
   ]
  },
  {
   "cell_type": "code",
   "execution_count": 29,
   "id": "768b1b93",
   "metadata": {},
   "outputs": [
    {
     "name": "stdout",
     "output_type": "stream",
     "text": [
      "0.6953524253524254\n"
     ]
    }
   ],
   "source": [
    "from src.metrics import best_match_similarity\n",
    "# from src.metrics import calculate_normalized_information_distance\n",
    "\n",
    "with open(f\"data/json/{image_name}.json\", 'r', encoding='utf-8') as f:\n",
    "    constructed_html = json.load(f)\n",
    "\n",
    "with open(os.path.join(\"data/labels\", image_name.replace('.jpg', '.json')), 'r', encoding='utf-8') as f:\n",
    "    label_html = json.load(f)\n",
    "\n",
    "# calculate_normalized_information_distance(constructed_html, label_html)\n",
    "print(best_match_similarity(label_html.get(\"persons\", []), constructed_html.get(\"persons\", [])))\n"
   ]
  },
  {
   "cell_type": "code",
   "execution_count": null,
   "id": "8f56d720",
   "metadata": {},
   "outputs": [],
   "source": []
  },
  {
   "cell_type": "code",
   "execution_count": 15,
   "id": "7ffa2656",
   "metadata": {},
   "outputs": [],
   "source": [
    "from bs4 import BeautifulSoup\n",
    "\n",
    "soup = BeautifulSoup(llm_html, \"html.parser\")\n",
    "table = soup.find(\"table\")"
   ]
  },
  {
   "cell_type": "code",
   "execution_count": 16,
   "id": "974b47c0",
   "metadata": {},
   "outputs": [
    {
     "name": "stdout",
     "output_type": "stream",
     "text": [
      "{\n",
      "  \"persons\": [\n",
      "    {\n",
      "      \"vader\": {\n",
      "        \"value\": \"Jacobus Swart Moeder: Catharina Canté Geboren den 8sten October 1773 Geboorteplaats: Schoonhoven Laatste Woohnplaats: Buille\",\n",
      "        \"cell\": \"c_7\"\n",
      "      },\n",
      "      \"moeder\": {\n",
      "        \"value\": \"Catharina Canté Geboren den 8sten October 1773 Geboorteplaats: Schoonhoven Laatste Woohnplaats: Buille\",\n",
      "        \"cell\": \"c_7\"\n",
      "      }\n",
      "    },\n",
      "    {\n",
      "      \"vader\": {\n",
      "        \"value\": \"Cornelis Mandek Moeder: Maria Mandek Geboren den 23sten December 1771 Geboorteplaats: Sloeg Laatste Woohnplaats: Sloeg\",\n",
      "        \"cell\": \"c_12\"\n",
      "      },\n",
      "      \"moeder\": {\n",
      "        \"value\": \"Maria Mandek Geboren den 23sten December 1771 Geboorteplaats: Sloeg Laatste Woohnplaats: Sloeg\",\n",
      "        \"cell\": \"c_12\"\n",
      "      }\n",
      "    }\n",
      "  ]\n",
      "}\n"
     ]
    }
   ],
   "source": [
    "import re\n",
    "import json\n",
    "\n",
    "persons = []\n",
    "\n",
    "for row in table.find_all(\"tr\"):\n",
    "    cells = row.find_all(\"td\")\n",
    "\n",
    "    if not cells:\n",
    "        continue  # skip header or empty rows\n",
    "\n",
    "    person = {}\n",
    "    for cell in cells:\n",
    "        # preserve breaks as \\n\n",
    "        text = cell.get_text(separator=\"\\n\", strip=True)\n",
    "        \n",
    "        vader_match = re.search(r'Vader.?\\s+([^\\n,<]+)', text, re.IGNORECASE)\n",
    "        moeder_match = re.search(r'Moeder.?\\s+([^\\n,<]+)', text, re.IGNORECASE)\n",
    "        geboorte_datum_match = re.search(r'Geboorte.?\\s*Den\\s*([^\\n,<]+)', text, re.IGNORECASE)\n",
    "        geboorte_plaats_match = re.search(r'Geboortplaats.?\\s*([^\\n,<]+)', text, re.IGNORECASE)\n",
    "        laatste_woonplaats_match = re.search(r'Laatste\\s*Woonplaats.?\\s*([^\\n,<]+)', text, re.IGNORECASE)\n",
    "        \n",
    "        if vader_match:\n",
    "            person['vader'] = {'value': vader_match.group(1).strip(), 'cell': cell.get('id')}\n",
    "        if moeder_match:\n",
    "            person['moeder'] = {'value': moeder_match.group(1).strip(), 'cell': cell.get('id')}\n",
    "        if geboorte_datum_match:\n",
    "            person['geboorte_datum'] = {'value': geboorte_datum_match.group(1).strip(), 'cell': cell.get('id')}\n",
    "        if geboorte_plaats_match:\n",
    "            person['geboorte_plaats'] = {'value': geboorte_plaats_match.group(1).strip(), 'cell': cell.get('id')}\n",
    "        if laatste_woonplaats_match:\n",
    "            person['laatste_woonplaats'] = {'value': laatste_woonplaats_match.group(1).strip(), 'cell': cell.get('id')}\n",
    "\n",
    "    if person:\n",
    "        persons.append(person)\n",
    "\n",
    "json_obj = {\"persons\": persons}\n",
    "print(json.dumps(json_obj, indent=2, ensure_ascii=False))"
   ]
  },
  {
   "cell_type": "code",
   "execution_count": 17,
   "id": "6799a8cb",
   "metadata": {},
   "outputs": [
    {
     "name": "stdout",
     "output_type": "stream",
     "text": [
      "{\n",
      "  \"persons\": [\n",
      "    {\n",
      "      \"vader\": {\n",
      "        \"value\": \"Jacobus Swart Moeder: Catharina Canté Geboren den 8sten October 1773 Geboorteplaats: Schoonhoven Laatste Woohnplaats: Buille\",\n",
      "        \"cell\": \"c_7\"\n",
      "      },\n",
      "      \"moeder\": {\n",
      "        \"value\": \"Catharina Canté Geboren den 8sten October 1773 Geboorteplaats: Schoonhoven Laatste Woohnplaats: Buille\",\n",
      "        \"cell\": \"c_7\"\n",
      "      }\n",
      "    },\n",
      "    {\n",
      "      \"vader\": {\n",
      "        \"value\": \"Cornelis Mandek Moeder: Maria Mandek Geboren den 23sten December 1771 Geboorteplaats: Sloeg Laatste Woohnplaats: Sloeg\",\n",
      "        \"cell\": \"c_12\"\n",
      "      },\n",
      "      \"moeder\": {\n",
      "        \"value\": \"Maria Mandek Geboren den 23sten December 1771 Geboorteplaats: Sloeg Laatste Woohnplaats: Sloeg\",\n",
      "        \"cell\": \"c_12\"\n",
      "      }\n",
      "    }\n",
      "  ]\n",
      "}\n"
     ]
    }
   ],
   "source": [
    "import re\n",
    "import json\n",
    "\n",
    "persons = []\n",
    "\n",
    "for row in table.find_all(\"tr\"):\n",
    "    cells = row.find_all(\"td\")\n",
    "\n",
    "    if not cells:\n",
    "        continue  # skip header or empty rows\n",
    "\n",
    "    person = {}\n",
    "    for cell in cells:\n",
    "        # preserve breaks as \\n\n",
    "        text = cell.get_text(separator=\"\\n\", strip=True)\n",
    "        \n",
    "        vader_match = re.search(r'Vader.?\\s+([^\\n,<]+)', text, re.IGNORECASE)\n",
    "        moeder_match = re.search(r'Moeder.?\\s+([^\\n,<]+)', text, re.IGNORECASE)\n",
    "        geboorte_datum_match = re.search(r'Geboorte.?\\s*Den\\s*([^\\n,<]+)', text, re.IGNORECASE)\n",
    "        geboorte_plaats_match = re.search(r'Geboortplaats.?\\s*([^\\n,<]+)', text, re.IGNORECASE)\n",
    "        laatste_woonplaats_match = re.search(r'Laatste\\s*Woonplaats.?\\s*([^\\n,<]+)', text, re.IGNORECASE)\n",
    "        \n",
    "        if vader_match:\n",
    "            person['vader'] = {'value': vader_match.group(1).strip(), 'cell': cell.get('id')}\n",
    "        if moeder_match:\n",
    "            person['moeder'] = {'value': moeder_match.group(1).strip(), 'cell': cell.get('id')}\n",
    "        if geboorte_datum_match:\n",
    "            person['geboorte_datum'] = {'value': geboorte_datum_match.group(1).strip(), 'cell': cell.get('id')}\n",
    "        if geboorte_plaats_match:\n",
    "            person['geboorte_plaats'] = {'value': geboorte_plaats_match.group(1).strip(), 'cell': cell.get('id')}\n",
    "        if laatste_woonplaats_match:\n",
    "            person['laatste_woonplaats'] = {'value': laatste_woonplaats_match.group(1).strip(), 'cell': cell.get('id')}\n",
    "\n",
    "    if person:\n",
    "        persons.append(person)\n",
    "\n",
    "json_obj = {\"persons\": persons}\n",
    "print(json.dumps(json_obj, indent=2, ensure_ascii=False))"
   ]
  },
  {
   "cell_type": "code",
   "execution_count": 18,
   "id": "4b6469da",
   "metadata": {},
   "outputs": [],
   "source": [
    "with open(f\"data/json/{image_name}.json\", \"w\", encoding='utf-8') as json_file:\n",
    "    json.dump(json_obj, json_file, ensure_ascii=False, indent=2)#!/usr/bin/env python3\n"
   ]
  },
  {
   "cell_type": "code",
   "execution_count": 19,
   "id": "6d72df84",
   "metadata": {},
   "outputs": [
    {
     "name": "stdout",
     "output_type": "stream",
     "text": [
      "\n",
      "--- Person 1 ---\n",
      "vader: predicted='Jacobus Swart Moeder: Catharina Canté Geboren den 8sten October 1773 Geboorteplaats: Schoonhoven Laatste Woohnplaats: Buille' | ground_truth='Jacobus' | normalized_edit_distance=0.944\n",
      "moeder: predicted='Catharina Canté Geboren den 8sten October 1773 Geboorteplaats: Schoonhoven Laatste Woohnplaats: Buille' | ground_truth='Catharina Ballert' | normalized_edit_distance=0.863\n",
      "Overall normalized edit distance for person 1: 0.903\n",
      "\n",
      "--- Person 2 ---\n",
      "vader: predicted='Cornelis Mandek Moeder: Maria Mandek Geboren den 23sten December 1771 Geboorteplaats: Sloeg Laatste Woohnplaats: Sloeg' | ground_truth='Coert Hendrik' | normalized_edit_distance=0.924\n",
      "moeder: predicted='Maria Mandek Geboren den 23sten December 1771 Geboorteplaats: Sloeg Laatste Woohnplaats: Sloeg' | ground_truth='Maria Van Onbeek' | normalized_edit_distance=0.862\n",
      "Overall normalized edit distance for person 2: 0.893\n",
      "\n",
      "Normalized edit distance over all persons and fields: 0.898\n"
     ]
    },
    {
     "data": {
      "text/plain": [
       "0.8979311065887217"
      ]
     },
     "execution_count": 19,
     "metadata": {},
     "output_type": "execute_result"
    }
   ],
   "source": [
    "from src.metrics import calculate_normalized_information_distance\n",
    "\n",
    "with open(f\"data/json/{image_name}.json\", 'r', encoding='utf-8') as f:\n",
    "    constructed_html = json.load(f)\n",
    "with open(os.path.join(\"data/labels\", image_name.replace('.jpg', '.json')), 'r', encoding='utf-8') as f:\n",
    "    label_html = json.load(f)\n",
    "\n",
    "calculate_normalized_information_distance(constructed_html, label_html)"
   ]
  },
  {
   "cell_type": "markdown",
   "id": "6f6a942f",
   "metadata": {},
   "source": [
    "### KG construction"
   ]
  },
  {
   "cell_type": "code",
   "execution_count": 20,
   "id": "51a4700c",
   "metadata": {},
   "outputs": [],
   "source": [
    "# load json from file\n",
    "with open(f\"data/json/{image_name}.json\", \"r\", encoding=\"utf-8\") as f:\n",
    "    json_obj = json.load(f)"
   ]
  },
  {
   "cell_type": "code",
   "execution_count": 21,
   "id": "3424a3dd",
   "metadata": {},
   "outputs": [
    {
     "name": "stderr",
     "output_type": "stream",
     "text": [
      "/var/folders/jg/8kz6nb554_3dz1_0swrmdw480000gn/T/ipykernel_34863/2391772286.py:8: DeprecationWarning: ConjunctiveGraph is deprecated, use Dataset instead.\n",
      "  cg = ConjunctiveGraph()\n"
     ]
    },
    {
     "data": {
      "text/plain": [
       "<Graph identifier=N2ea9281ee3ad41c7b7192d5f73635066 (<class 'rdflib.graph.ConjunctiveGraph'>)>"
      ]
     },
     "execution_count": 21,
     "metadata": {},
     "output_type": "execute_result"
    }
   ],
   "source": [
    "# CONSTRUCT ASSERSION TRIPLES\n",
    "from rdflib import Graph, ConjunctiveGraph, Namespace, URIRef, Literal, RDF\n",
    "\n",
    "FOAF = Namespace(\"http://xmlns.com/foaf/0.1/\")\n",
    "EX = Namespace(\"http://example.org/ontology/\")\n",
    "PROV = Namespace(\"http://www.w3.org/ns/prov#\")\n",
    "\n",
    "cg = ConjunctiveGraph()\n",
    "cg.bind(\"foaf\", FOAF)\n",
    "cg.bind(\"ex\", EX)\n",
    "cg.bind(\"prov\", PROV)\n",
    "\n",
    "# Mapping from json keys to RDF predicates\n",
    "predicate_map = {\n",
    "    \"vader\": EX.vader,\n",
    "    \"moeder\": EX.moeder,\n",
    "    \"geboorte_datum\": EX.geboorteDatum,\n",
    "    \"geboorte_plaats\": EX.geboortePlaats,\n",
    "    \"laatste_woonplaats\": EX.laatsteWoonplaats\n",
    "}\n",
    "\n",
    "for idx, person in enumerate(json_obj[\"persons\"], start=1):\n",
    "    person_uri = URIRef(f\"http://example.org/person/{idx}\")\n",
    "    assertion_graph_uri = URIRef(\"http://example.org/assertion\")\n",
    "    assertion_graph = Graph(store=cg.store, identifier=assertion_graph_uri)\n",
    "    assertion_graph.add((person_uri, RDF.type, FOAF.Person))\n",
    "\n",
    "    provenance_graph_uri = URIRef(\"http://example.org/provenance\")\n",
    "    provenance_graph = Graph(store=cg.store, identifier=provenance_graph_uri)\n",
    "\n",
    "    for key, value_dict in person.items():\n",
    "        value = value_dict[\"value\"]\n",
    "        cell_id = value_dict[\"cell\"]\n",
    "        \n",
    "        predicate = predicate_map.get(key)\n",
    "        \n",
    "        # if cell_id is null, no named graph can be created\n",
    "        if not cell_id:\n",
    "            assertion_graph.add((person_uri, predicate, Literal(value)))\n",
    "            continue\n",
    "        \n",
    "        if predicate:\n",
    "            # Named graph for each cell\n",
    "            graph_uri = URIRef(f\"http://example.org/graph/{cell_id}\")\n",
    "            ng = Graph(store=cg.store, identifier=graph_uri)\n",
    "            ng.add((person_uri, predicate, Literal(value)))\n",
    "            \n",
    "\n",
    "cg.serialize(f\"data/triples/{image_name.replace('.jpg','')}_assersion.trig\", format='trig')\n"
   ]
  },
  {
   "cell_type": "code",
   "execution_count": 22,
   "id": "a4633769",
   "metadata": {},
   "outputs": [],
   "source": [
    "end_time = \"2025-09-01T12:00:00Z\"  # Example end time, replace with actual time if needed\n",
    "start_time = \"2025-09-01T10:00:00Z\"  # Example start time, replace with actual time if needed\n",
    "\n",
    "def add_provenance_graph(html_path, coordinate_path, stamboek_nummer=image_name):\n",
    "    import pandas as pd\n",
    "\n",
    "    df = pd.read_csv(coordinate_path, header=None)\n",
    "    print(df)\n",
    "\n",
    "    with open(html_path, 'r', encoding='utf-8') as f:\n",
    "        llm_html = f.read()\n",
    "\n",
    "    soup = BeautifulSoup(llm_html, \"html.parser\")\n",
    "\n",
    "    EX = Namespace(\"http://example.org/ontology/\")\n",
    "    IMG = Namespace(\"http://example.org/image_ontology/\")\n",
    "    RDF = Namespace(\"http://www.w3.org/1999/02/22-rdf-syntax-ns#\")  \n",
    "    RDFS = Namespace(\"http://www.w3.org/2000/01/rdf-schema#\")\n",
    "    PROV = Namespace(\"http://www.w3.org/ns/prov#\")\n",
    "    CSVW = Namespace(\"http://www.w3.org/ns/csvw#\")\n",
    "\n",
    "    # Create RDF graph\n",
    "    g = Graph()\n",
    "    g.bind(\"ex\", EX)\n",
    "    g.bind(\"img\", IMG)\n",
    "    g.bind(\"rdf\", RDF)\n",
    "    g.bind(\"rdfs\", RDFS)\n",
    "    g.bind(\"prov\", PROV)\n",
    "    g.csvw = (\"csvw\", CSVW)\n",
    "\n",
    "    for cell in soup.find_all(\"td\"):\n",
    "        cell_id = cell.get('id')\n",
    "        rows = cell.get('row')\n",
    "        cols = cell.get('col')\n",
    "        cell_number = int(cell_id.lstrip('#c_'))  # Assuming cell_id is like \"#c_1\", \"#2\", etc.\n",
    "        \n",
    "        try:\n",
    "            coords_points = df.iloc[cell_number - 1, 0]  # get polygon from dataframe\n",
    "        except Exception as e:\n",
    "            print(f\"Error retrieving coordinates for cell {cell_id}: {e}\")\n",
    "            continue\n",
    "        \n",
    "        # cell uri\n",
    "        named_graph_uri = URIRef(f\"http://example.org/graph/{cell_id}\")\n",
    "        cell_uri = URIRef(f\"http://example.org/id/{cell_id}\")\n",
    "        provenance_graph.add((named_graph_uri, PROV.wasDerivedFrom, cell_uri))\n",
    "        g.add((cell_uri, RDF.type, PROV.Entity))\n",
    "        g.add((cell_uri, RDFS.label, Literal(f\"Cell {cell_id} from {stamboek_nummer}\")))\n",
    "            \n",
    "        g.add((cell_uri, RDF.type, CSVW.Cell))\n",
    "        g.add((cell_uri, CSVW.rowNumber, Literal(rows)))\n",
    "        g.add((cell_uri, CSVW.columnNumber, Literal(cols)))\n",
    "        g.add((cell_uri, EX.ImageRegion, Literal(coords_points)))\n",
    "\n",
    "        # agents\n",
    "        agent_1 = URIRef(\"http://example.org/agent/1\")\n",
    "        g.add((agent_1, RDF.type, PROV.Agent))\n",
    "        g.add((agent_1, RDFS.label, Literal(\"Sarah Shoilee\")))\n",
    "        g.add((named_graph_uri, PROV.wasAttributedTo, agent_1))\n",
    "        project_agent = URIRef(\"http://example.org/agent/2\")\n",
    "        g.add((project_agent, RDF.type, PROV.Agent))\n",
    "        g.add((project_agent, RDFS.label, Literal(\"Pressing Matter Project\")))\n",
    "        g.add((agent_1, PROV.actedOnBehalfOf, project_agent))\n",
    "\n",
    "        # activity\n",
    "        stamboekenKGConstructionactivity = URIRef(f\"http://example.org/activity/stamboekenKGConstructionactivity/{cell_id}\")\n",
    "        tableConstructionactivity = URIRef(f\"http://example.org/activity/TableExtraction/{cell_id}\")\n",
    "        informationExtractionactivity = URIRef(f\"http://example.org/activity/InformationExtraction/{cell_id}\")\n",
    "        KGConstructionactivity = URIRef(f\"http://example.org/activity/KGConstruction/{cell_id}\")\n",
    "            \n",
    "        g.add((stamboekenKGConstructionactivity, RDF.type, PROV.Activity))\n",
    "        g.add((named_graph_uri, PROV.wasGeneratedBy, stamboekenKGConstructionactivity))\n",
    "        g.add((stamboekenKGConstructionactivity, PROV.wasAssociatedWith, agent_1))\n",
    "        g.add((stamboekenKGConstructionactivity, PROV.wasInformedBy, tableConstructionactivity))\n",
    "        g.add((tableConstructionactivity, RDF.type, PROV.Activity))\n",
    "        g.add((stamboekenKGConstructionactivity, PROV.wasInformedBy, informationExtractionactivity))\n",
    "        g.add((informationExtractionactivity, RDF.type, PROV.Activity))\n",
    "        g.add((informationExtractionactivity, PROV.used, cell_uri))\n",
    "        g.add((stamboekenKGConstructionactivity, PROV.wasInformedBy, KGConstructionactivity))\n",
    "        g.add((KGConstructionactivity, RDF.type, PROV.Activity))\n",
    "        g.add((KGConstructionactivity, PROV.used, cell_uri))\n",
    "\n",
    "        g.add((stamboekenKGConstructionactivity,PROV.endedAtTime, Literal(end_time)))\n",
    "        g.add((stamboekenKGConstructionactivity,PROV.startedAtTime, Literal(start_time)))\n",
    "\n",
    "        # Create a Table instance URI\n",
    "        table_uri = URIRef(f\"http://example.org/Table/{cell_id}\")\n",
    "        g.add((table_uri, RDF.type, PROV.Entity))\n",
    "        g.add((table_uri, RDF.type, CSVW.Table))\n",
    "        g.add((table_uri, PROV.wasGeneratedBy, tableConstructionactivity))\n",
    "        g.add((cell_uri, PROV.wasDerivedFrom, table_uri))\n",
    "            \n",
    "        # stamboeken\n",
    "        stamboek_uri = URIRef(f\"http://example.org/stamboek/{stamboek_nummer}\")\n",
    "        g.add((stamboek_uri, RDF.type, PROV.Entity))\n",
    "        g.add((tableConstructionactivity, PROV.used, stamboek_uri))\n",
    "        g.add((table_uri, PROV.wasDerivedFrom, stamboek_uri))\n",
    "        national_archives = URIRef(\"http://example.org/agent/3\")\n",
    "        g.add((national_archives, RDF.type, PROV.Agent))\n",
    "        g.add((national_archives, RDFS.label, Literal(\"Nationaal Archief\")))\n",
    "        g.add((stamboek_uri, PROV.wasAttributedTo, national_archives))\n",
    "    \n",
    "    g.serialize(f\"data/triples/{image_name.replace('.jpg','')}_provenance.ttl\", format='ttl')\n"
   ]
  },
  {
   "cell_type": "code",
   "execution_count": 23,
   "id": "cff761c5",
   "metadata": {},
   "outputs": [
    {
     "name": "stdout",
     "output_type": "stream",
     "text": [
      "                                  0      1\n",
      "0     256,91;573,91;573,141;256,141   #c_1\n",
      "1     573,91;712,91;712,141;573,141   #c_2\n",
      "2     712,91;806,91;806,141;712,141   #c_3\n",
      "3     806,91;876,91;876,141;806,141   #c_4\n",
      "4     876,91;946,91;946,141;876,141   #c_5\n",
      "5   256,141;573,141;573,527;256,527   #c_6\n",
      "6   573,141;712,141;712,527;573,527   #c_7\n",
      "7   712,141;806,141;806,527;712,527   #c_8\n",
      "8   806,141;876,141;876,527;806,527   #c_9\n",
      "9   876,141;946,141;946,527;876,527  #c_10\n",
      "10  256,527;573,527;573,913;256,913  #c_11\n",
      "11  573,527;712,527;712,913;573,913  #c_12\n",
      "12  712,527;806,527;806,913;712,913  #c_13\n",
      "13  806,527;876,527;876,913;806,913  #c_14\n",
      "14  876,527;946,527;946,913;876,913  #c_15\n"
     ]
    }
   ],
   "source": [
    "csv_path = os.path.join(\"data/tables/cells/center\", image_name+'.txt')\n",
    "table_path = os.path.join(\"data/tables/html\", image_name+'.html')\n",
    "\n",
    "add_provenance_graph(table_path, csv_path, stamboek_nummer=image_name)"
   ]
  }
 ],
 "metadata": {
  "kernelspec": {
   "display_name": "NGTR",
   "language": "python",
   "name": "ngtr"
  },
  "language_info": {
   "codemirror_mode": {
    "name": "ipython",
    "version": 3
   },
   "file_extension": ".py",
   "mimetype": "text/x-python",
   "name": "python",
   "nbconvert_exporter": "python",
   "pygments_lexer": "ipython3",
   "version": "3.9.23"
  }
 },
 "nbformat": 4,
 "nbformat_minor": 5
}
