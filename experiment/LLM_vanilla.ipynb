{
 "cells": [
  {
   "cell_type": "markdown",
   "id": "408ce71a",
   "metadata": {},
   "source": [
    "First, activate conda environment:\n",
    "```bash\n",
    "conda activate NGTR\n",
    "```"
   ]
  },
  {
   "cell_type": "code",
   "execution_count": 1,
   "id": "2b91e57e",
   "metadata": {},
   "outputs": [
    {
     "name": "stdout",
     "output_type": "stream",
     "text": [
      "Current directory: /Users/sarah_shoilee/codeProjects/stamboekn_KE/Image2Table_LLM\n"
     ]
    }
   ],
   "source": [
    "import os\n",
    "# Go outside the src directory\n",
    "os.chdir(\"../Image2Table_LLM\")\n",
    "current_dir = os.getcwd()\n",
    "print(\"Current directory:\", current_dir)"
   ]
  },
  {
   "cell_type": "code",
   "execution_count": 2,
   "id": "6b947683",
   "metadata": {},
   "outputs": [],
   "source": [
    "from LLM import call_LLM\n",
    "from LLM_key import llm_model\n",
    "from parse import extract_HTML, format_td\n",
    "from prompt import tsr_html_prompt, tsr_html_decomposition\n",
    "from metric import TEDS"
   ]
  },
  {
   "cell_type": "code",
   "execution_count": 3,
   "id": "1a382d2e",
   "metadata": {},
   "outputs": [],
   "source": [
    "image_path = \"../data/images/NL-HaNA_2.10.50_45_0355.jpg\"\n",
    "image_name = os.path.basename(image_path)"
   ]
  },
  {
   "cell_type": "code",
   "execution_count": 4,
   "id": "6f380809",
   "metadata": {},
   "outputs": [
    {
     "name": "stdout",
     "output_type": "stream",
     "text": [
      "```html\n",
      "<table>\n",
      "  <thead>\n",
      "    <tr>\n",
      "      <td>Namen en Toenamen</td>\n",
      "      <td>Namen der Ouders, datum van Geboorte, Geboorteplaats en laatste Woonsplaats, en of dezelfde gehuwd zijn en kinderen hebben</td>\n",
      "      <td>Datums van aanstellingen in onderscheidene Graden, van overgang naar andere korpsen, van bekomen Pensioen of Demissie en van Overlijden</td>\n",
      "      <td>In iedere graad gediend</td>\n",
      "      <td>Gedane veldtogten, bekomen wonden, uitstekende daden of bijzondere verrigtingen</td>\n",
      "    </tr>\n",
      "  </thead>\n",
      "  <tbody>\n",
      "    <tr>\n",
      "      <td> Wolff </td>\n",
      "      <td> Vader Jacob Young Moeder Catharina Cantolt Geboren den 8e October 1773 Geboorteplaats Schoonhoven Laatste Woonsplaats Buille </td>\n",
      "      <td></td>\n",
      "      <td></td>\n",
      "      <td></td>\n",
      "    </tr>\n",
      "    <tr>\n",
      "      <td> van Schack </td>\n",
      "      <td> Vader Cornst Hendrik Moeder Maria Cantolt Geboren den 22e December 1771 Geboorteplaats Sloge Laatste Woonsplaats Sloge </td>\n",
      "      <td></td>\n",
      "      <td></td>\n",
      "      <td></td>\n",
      "    </tr>\n",
      "  </tbody>\n",
      "</table>\n",
      "```\n"
     ]
    }
   ],
   "source": [
    "llm_html = call_LLM(image_path, prompt=tsr_html_prompt, model_name=llm_model, temperature=0)\n",
    "llm_html = extract_HTML(llm_html)"
   ]
  },
  {
   "cell_type": "code",
   "execution_count": 5,
   "id": "1a49c201",
   "metadata": {},
   "outputs": [],
   "source": [
    "# save the html\n",
    "with open(os.path.join(\"../data/tables/html\", image_name.replace('.jpg', '.html')), 'w', encoding='utf-8') as f:\n",
    "    f.write(llm_html)"
   ]
  },
  {
   "cell_type": "code",
   "execution_count": 6,
   "id": "e6705edc",
   "metadata": {},
   "outputs": [],
   "source": [
    "def calculate_TEDS(ground_truth_html, predicted_html):\n",
    "    predicted_html = format_td(predicted_html)\n",
    "    ground_truth_html = format_td(ground_truth_html)\n",
    "\n",
    "    teds = TEDS(structure_only=False)\n",
    "    teds_score = teds.evaluate(ground_truth_html, predicted_html)\n",
    "\n",
    "    teds_struct = TEDS(structure_only=True)\n",
    "    teds_struct_score = teds_struct.evaluate(ground_truth_html, predicted_html)\n",
    "    \n",
    "    print(f\"TEDS: {teds_score:.4f}\")\n",
    "    print(f\"TEDS-Struct: {teds_struct_score:.4f}\")\n",
    "\n",
    "    return teds_score, teds_struct_score"
   ]
  },
  {
   "cell_type": "code",
   "execution_count": 7,
   "id": "58e1bd88",
   "metadata": {},
   "outputs": [
    {
     "name": "stdout",
     "output_type": "stream",
     "text": [
      "TEDS: 0.8801\n",
      "TEDS-Struct: 0.9286\n"
     ]
    },
    {
     "data": {
      "text/plain": [
       "(0.880062006735847, 0.9285714285714286)"
      ]
     },
     "execution_count": 7,
     "metadata": {},
     "output_type": "execute_result"
    }
   ],
   "source": [
    "with open(os.path.join(\"../data/labels\", image_name.replace('.jpg', '.html')), 'r', encoding='utf-8') as f:\n",
    "    label_html = f.read()\n",
    "\n",
    "calculate_TEDS(label_html, llm_html)\n"
   ]
  },
  {
   "cell_type": "markdown",
   "id": "7a032de7",
   "metadata": {},
   "source": [
    "### Information Extraction"
   ]
  },
  {
   "cell_type": "code",
   "execution_count": 8,
   "id": "7ffa2656",
   "metadata": {},
   "outputs": [],
   "source": [
    "from bs4 import BeautifulSoup\n",
    "\n",
    "soup = BeautifulSoup(llm_html, \"html.parser\")\n",
    "table = soup.find(\"table\")"
   ]
  },
  {
   "cell_type": "code",
   "execution_count": 9,
   "id": "bac0aea5",
   "metadata": {},
   "outputs": [
    {
     "data": {
      "text/plain": [
       "<table><thead><tr><td>Namen en Toenamen</td><td>Namen der Ouders, datum van Geboorte, Geboorteplaats en laatste Woonsplaats, en of dezelfde gehuwd zijn en kinderen hebben</td><td>Datums van aanstellingen in onderscheidene Graden, van overgang naar andere korpsen, van bekomen Pensioen of Demissie en van Overlijden</td><td>In iedere graad gediend</td><td>Gedane veldtogten, bekomen wonden, uitstekende daden of bijzondere verrigtingen</td></tr></thead><tbody><tr><td> Wolff </td><td> Vader Jacob Young Moeder Catharina Cantolt Geboren den 8e October 1773 Geboorteplaats Schoonhoven Laatste Woonsplaats Buille </td><td></td><td></td><td></td></tr><tr><td> van Schack </td><td> Vader Cornst Hendrik Moeder Maria Cantolt Geboren den 22e December 1771 Geboorteplaats Sloge Laatste Woonsplaats Sloge </td><td></td><td></td><td></td></tr></tbody></table>"
      ]
     },
     "execution_count": 9,
     "metadata": {},
     "output_type": "execute_result"
    }
   ],
   "source": [
    "table"
   ]
  },
  {
   "cell_type": "code",
   "execution_count": 10,
   "id": "6799a8cb",
   "metadata": {},
   "outputs": [
    {
     "name": "stdout",
     "output_type": "stream",
     "text": [
      "{\n",
      "  \"persons\": [\n",
      "    {\n",
      "      \"vader\": {\n",
      "        \"value\": \"Jacob Young Moeder Catharina Cantolt Geboren den 8e October 1773 Geboorteplaats Schoonhoven Laatste Woonsplaats Buille\",\n",
      "        \"cell\": null\n",
      "      },\n",
      "      \"moeder\": {\n",
      "        \"value\": \"Catharina Cantolt Geboren den 8e October 1773 Geboorteplaats Schoonhoven Laatste Woonsplaats Buille\",\n",
      "        \"cell\": null\n",
      "      },\n",
      "      \"geboorte_datum\": {\n",
      "        \"value\": \"8e October 1773 Geboorteplaats Schoonhoven Laatste Woonsplaats Buille\",\n",
      "        \"cell\": null\n",
      "      }\n",
      "    },\n",
      "    {\n",
      "      \"vader\": {\n",
      "        \"value\": \"Cornst Hendrik Moeder Maria Cantolt Geboren den 22e December 1771 Geboorteplaats Sloge Laatste Woonsplaats Sloge\",\n",
      "        \"cell\": null\n",
      "      },\n",
      "      \"moeder\": {\n",
      "        \"value\": \"Maria Cantolt Geboren den 22e December 1771 Geboorteplaats Sloge Laatste Woonsplaats Sloge\",\n",
      "        \"cell\": null\n",
      "      },\n",
      "      \"geboorte_datum\": {\n",
      "        \"value\": \"22e December 1771 Geboorteplaats Sloge Laatste Woonsplaats Sloge\",\n",
      "        \"cell\": null\n",
      "      }\n",
      "    }\n",
      "  ]\n",
      "}\n"
     ]
    }
   ],
   "source": [
    "import re\n",
    "import json\n",
    "\n",
    "persons = []\n",
    "\n",
    "for row in table.find_all(\"tr\"):\n",
    "    cells = row.find_all(\"td\")\n",
    "\n",
    "    if not cells:\n",
    "        continue  # skip header or empty rows\n",
    "\n",
    "    person = {}\n",
    "    for cell in cells:\n",
    "        # preserve breaks as \\n\n",
    "        text = cell.get_text(separator=\"\\n\", strip=True)\n",
    "        \n",
    "        vader_match = re.search(r'Vader\\s+([^\\n,<]+)', text, re.IGNORECASE)\n",
    "        moeder_match = re.search(r'Moeder\\s+([^\\n,<]+)', text, re.IGNORECASE)\n",
    "        geboorte_datum_match = re.search(r'Geboren\\s*Den\\s*([^\\n,<]+)', text, re.IGNORECASE)\n",
    "        geboorte_plaats_match = re.search(r'Geboortplaats\\s*([^\\n,<]+)', text, re.IGNORECASE)\n",
    "        laatste_woonplaats_match = re.search(r'Laatste\\s*Woonplaats\\s*([^\\n,<]+)', text, re.IGNORECASE)\n",
    "        \n",
    "        if vader_match:\n",
    "            person['vader'] = {'value': vader_match.group(1).strip(), 'cell': cell.get('id')}\n",
    "        if moeder_match:\n",
    "            person['moeder'] = {'value': moeder_match.group(1).strip(), 'cell': cell.get('id')}\n",
    "        if geboorte_datum_match:\n",
    "            person['geboorte_datum'] = {'value': geboorte_datum_match.group(1).strip(), 'cell': cell.get('id')}\n",
    "        if geboorte_plaats_match:\n",
    "            person['geboorte_plaats'] = {'value': geboorte_plaats_match.group(1).strip(), 'cell': cell.get('id')}\n",
    "        if laatste_woonplaats_match:\n",
    "            person['laatste_woonplaats'] = {'value': laatste_woonplaats_match.group(1).strip(), 'cell': cell.get('id')}\n",
    "\n",
    "    if person:\n",
    "        persons.append(person)\n",
    "\n",
    "json_obj = {\"persons\": persons}\n",
    "print(json.dumps(json_obj, indent=2, ensure_ascii=False))"
   ]
  },
  {
   "cell_type": "code",
   "execution_count": 11,
   "id": "4b6469da",
   "metadata": {},
   "outputs": [],
   "source": [
    "with open(f\"../data/json/{image_name}.json\", \"w\", encoding='utf-8') as json_file:\n",
    "    json.dump(json_obj, json_file, ensure_ascii=False, indent=2)#!/usr/bin/env python3\n"
   ]
  },
  {
   "cell_type": "markdown",
   "id": "6f6a942f",
   "metadata": {},
   "source": [
    "### KG construction\n",
    "\n"
   ]
  },
  {
   "cell_type": "code",
   "execution_count": 12,
   "id": "51a4700c",
   "metadata": {},
   "outputs": [],
   "source": [
    "# load json from file\n",
    "with open(f\"../data/json/{image_name}.json\", \"r\", encoding=\"utf-8\") as f:\n",
    "    json_obj = json.load(f)"
   ]
  },
  {
   "cell_type": "code",
   "execution_count": 13,
   "id": "3424a3dd",
   "metadata": {},
   "outputs": [
    {
     "name": "stderr",
     "output_type": "stream",
     "text": [
      "/var/folders/jg/8kz6nb554_3dz1_0swrmdw480000gn/T/ipykernel_16304/1704695848.py:8: DeprecationWarning: ConjunctiveGraph is deprecated, use Dataset instead.\n",
      "  cg = ConjunctiveGraph()\n"
     ]
    },
    {
     "data": {
      "text/plain": [
       "<Graph identifier=N90ceb5ce27b7484fae4ededc5a57bc2a (<class 'rdflib.graph.ConjunctiveGraph'>)>"
      ]
     },
     "execution_count": 13,
     "metadata": {},
     "output_type": "execute_result"
    }
   ],
   "source": [
    "# CONSTRUCT ASSERSION TRIPLES\n",
    "from rdflib import Graph, ConjunctiveGraph, Namespace, URIRef, Literal, RDF\n",
    "\n",
    "FOAF = Namespace(\"http://xmlns.com/foaf/0.1/\")\n",
    "EX = Namespace(\"http://example.org/ontology/\")\n",
    "PROV = Namespace(\"http://www.w3.org/ns/prov#\")\n",
    "\n",
    "cg = ConjunctiveGraph()\n",
    "cg.bind(\"foaf\", FOAF)\n",
    "cg.bind(\"ex\", EX)\n",
    "cg.bind(\"prov\", PROV)\n",
    "\n",
    "# Mapping from json keys to RDF predicates\n",
    "predicate_map = {\n",
    "    \"vader\": EX.vader,\n",
    "    \"moeder\": EX.moeder,\n",
    "    \"geboorte_datum\": EX.geboorteDatum,\n",
    "    \"geboorte_plaats\": EX.geboortePlaats,\n",
    "    \"laatste_woonplaats\": EX.laatsteWoonplaats\n",
    "}\n",
    "\n",
    "for idx, person in enumerate(json_obj[\"persons\"], start=1):\n",
    "    person_uri = URIRef(f\"http://example.org/person/{idx}\")\n",
    "    assertion_graph_uri = URIRef(\"http://example.org/assertion\")\n",
    "    assertion_graph = Graph(store=cg.store, identifier=assertion_graph_uri)\n",
    "    assertion_graph.add((person_uri, RDF.type, FOAF.Person))\n",
    "\n",
    "    provenance_graph_uri = URIRef(\"http://example.org/provenance\")\n",
    "    provenance_graph = Graph(store=cg.store, identifier=provenance_graph_uri)\n",
    "\n",
    "    for key, value_dict in person.items():\n",
    "        value = value_dict[\"value\"]\n",
    "        cell_id = value_dict[\"cell\"]\n",
    "        \n",
    "        predicate = predicate_map.get(key)\n",
    "        \n",
    "        # if cell_id is null, no named graph can be created\n",
    "        if not cell_id:\n",
    "            assertion_graph.add((person_uri, predicate, Literal(value)))\n",
    "            continue\n",
    "        \n",
    "        if predicate:\n",
    "            # Named graph for each cell\n",
    "            graph_uri = URIRef(f\"http://example.org/graph/{cell_id}\")\n",
    "            ng = Graph(store=cg.store, identifier=graph_uri)\n",
    "            ng.add((person_uri, predicate, Literal(value)))\n",
    "            \n",
    "\n",
    "cg.serialize(f\"../data/triples/{image_name}_assersion.trig\", format='trig')\n"
   ]
  }
 ],
 "metadata": {
  "kernelspec": {
   "display_name": "NGTR",
   "language": "python",
   "name": "ngtr"
  },
  "language_info": {
   "codemirror_mode": {
    "name": "ipython",
    "version": 3
   },
   "file_extension": ".py",
   "mimetype": "text/x-python",
   "name": "python",
   "nbconvert_exporter": "python",
   "pygments_lexer": "ipython3",
   "version": "3.9.23"
  }
 },
 "nbformat": 4,
 "nbformat_minor": 5
}
